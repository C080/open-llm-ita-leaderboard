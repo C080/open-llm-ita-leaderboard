{
 "cells": [
  {
   "cell_type": "code",
   "execution_count": 1,
   "metadata": {},
   "outputs": [
    {
     "name": "stderr",
     "output_type": "stream",
     "text": [
      "c:\\Users\\Samuele\\AppData\\Local\\Programs\\Python\\Python311\\Lib\\site-packages\\tqdm\\auto.py:21: TqdmWarning: IProgress not found. Please update jupyter and ipywidgets. See https://ipywidgets.readthedocs.io/en/stable/user_install.html\n",
      "  from .autonotebook import tqdm as notebook_tqdm\n",
      "c:\\Users\\Samuele\\AppData\\Local\\Programs\\Python\\Python311\\Lib\\site-packages\\datasets\\load.py:1429: FutureWarning: The repository for squad_it contains custom code which must be executed to correctly load the dataset. You can inspect the repository content at https://hf.co/datasets/squad_it\n",
      "You can avoid this message in future by passing the argument `trust_remote_code=True`.\n",
      "Passing `trust_remote_code=True` will be mandatory to load this dataset from the next major release of `datasets`.\n",
      "  warnings.warn(\n"
     ]
    }
   ],
   "source": [
    "import transformers\n",
    "from datasets import load_dataset\n",
    "\n",
    "dataset = load_dataset(\"squad_it\")\n",
    "DEVICE = \"cuda:0\""
   ]
  },
  {
   "cell_type": "code",
   "execution_count": 2,
   "metadata": {},
   "outputs": [
    {
     "name": "stderr",
     "output_type": "stream",
     "text": [
      "Loading checkpoint shards: 100%|██████████| 2/2 [01:38<00:00, 49.36s/it]\n"
     ]
    }
   ],
   "source": [
    "from get_model import get_model\n",
    "model_name = \"saiga-7b\"\n",
    "\n",
    "model, tokenizer = get_model(model_name)\n",
    "model = model.to(DEVICE)"
   ]
  },
  {
   "cell_type": "code",
   "execution_count": 3,
   "metadata": {},
   "outputs": [],
   "source": [
    "from get_prompt import get_prompt\n",
    "\n",
    "generate_prompt, stop = get_prompt(model_name)"
   ]
  },
  {
   "cell_type": "code",
   "execution_count": 4,
   "metadata": {},
   "outputs": [],
   "source": [
    "def build_question(context, question):\n",
    "    return f\"Dato il seguente testo:\\n{context}\\nRispondi brevemente a questa domanda:\\n{question}\"\n",
    "\n",
    "def build_answer(answer):\n",
    "    return f\"Risposta breve: {answer}\""
   ]
  },
  {
   "cell_type": "code",
   "execution_count": 5,
   "metadata": {},
   "outputs": [],
   "source": [
    "import random\n",
    "\n",
    "def get_shots(dataset, n):\n",
    "    conversation = []\n",
    "    for i in range(n):\n",
    "        elem = random.choice(dataset[\"train\"])\n",
    "        q_shot = build_question(elem[\"context\"], elem[\"question\"])\n",
    "        conversation.append(dict(\n",
    "            role=\"user\",\n",
    "            text=q_shot\n",
    "        ))\n",
    "        conversation.append(dict(\n",
    "            role=\"ai\",\n",
    "            text=build_answer(elem[\"answers\"][\"text\"][0])\n",
    "        ))\n",
    "    return conversation"
   ]
  },
  {
   "cell_type": "code",
   "execution_count": 6,
   "metadata": {},
   "outputs": [],
   "source": [
    "import torch\n",
    "\n",
    "def forward_model(*, prompt, model, tokenizer):\n",
    "    if \"pad_token\" not in tokenizer.special_tokens_map:\n",
    "        tokenizer.pad_token = tokenizer.eos_token\n",
    "\n",
    "    input_ids = tokenizer(\n",
    "        prompt,\n",
    "        return_tensors='pt',\n",
    "        padding=True,\n",
    "    ).input_ids\n",
    "    with torch.no_grad():\n",
    "        input_ids = input_ids.to(DEVICE)\n",
    "        output_ids = model.generate(\n",
    "            input_ids=input_ids,\n",
    "            max_new_tokens=32,\n",
    "            pad_token_id=tokenizer.eos_token_id\n",
    "        )\n",
    "\n",
    "    ret = []\n",
    "    for i in range(0, len(output_ids)):\n",
    "        generated_text = tokenizer.decode(\n",
    "            output_ids[i],\n",
    "            skip_special_tokens=True\n",
    "        )\n",
    "        generated_text = generated_text[len(prompt[i]):]\n",
    "\n",
    "        if \"\\n\" in generated_text:\n",
    "            generated_text = generated_text[:generated_text.index(\"\\n\")]\n",
    "        \n",
    "        ret.append(generated_text.strip())\n",
    "\n",
    "    return ret"
   ]
  },
  {
   "cell_type": "code",
   "execution_count": 7,
   "metadata": {},
   "outputs": [
    {
     "name": "stdout",
     "output_type": "stream",
     "text": [
      "4.7999794483184814\n",
      "['bella (Life is Beautiful) is a 1997 Italian film directed by Roberto Benigni. The film is a Holocaust drama set']\n"
     ]
    }
   ],
   "source": [
    "import time\n",
    "\n",
    "t0 = time.time()\n",
    "out = forward_model(\n",
    "    prompt=[\"La vita è\"],\n",
    "    model=model,\n",
    "    tokenizer=tokenizer,\n",
    ")\n",
    "print(time.time() - t0)\n",
    "\n",
    "print(out)"
   ]
  },
  {
   "cell_type": "code",
   "execution_count": 8,
   "metadata": {},
   "outputs": [
    {
     "name": "stderr",
     "output_type": "stream",
     "text": [
      "100%|██████████| 7609/7609 [12:58:06<00:00,  6.14s/it]  \n"
     ]
    },
    {
     "ename": "FileNotFoundError",
     "evalue": "[Errno 2] No such file or directory: './cache/generated-squad-saiga-7b.json'",
     "output_type": "error",
     "traceback": [
      "\u001b[1;31m---------------------------------------------------------------------------\u001b[0m",
      "\u001b[1;31mFileNotFoundError\u001b[0m                         Traceback (most recent call last)",
      "Cell \u001b[1;32mIn[8], line 59\u001b[0m\n\u001b[0;32m     54\u001b[0m         \u001b[38;5;28;01mcontinue\u001b[39;00m\n\u001b[0;32m     57\u001b[0m \u001b[38;5;28;01mimport\u001b[39;00m \u001b[38;5;21;01mjson\u001b[39;00m\n\u001b[1;32m---> 59\u001b[0m \u001b[38;5;28;01mwith\u001b[39;00m \u001b[38;5;28;43mopen\u001b[39;49m\u001b[43m(\u001b[49m\u001b[38;5;124;43mf\u001b[39;49m\u001b[38;5;124;43m\"\u001b[39;49m\u001b[38;5;124;43m./cache/generated-squad-\u001b[39;49m\u001b[38;5;132;43;01m{\u001b[39;49;00m\u001b[43mmodel_name\u001b[49m\u001b[38;5;132;43;01m}\u001b[39;49;00m\u001b[38;5;124;43m.json\u001b[39;49m\u001b[38;5;124;43m\"\u001b[39;49m\u001b[43m,\u001b[49m\u001b[43m \u001b[49m\u001b[38;5;124;43m\"\u001b[39;49m\u001b[38;5;124;43mw\u001b[39;49m\u001b[38;5;124;43m\"\u001b[39;49m\u001b[43m)\u001b[49m \u001b[38;5;28;01mas\u001b[39;00m f:\n\u001b[0;32m     60\u001b[0m     json\u001b[38;5;241m.\u001b[39mdump(\u001b[38;5;28mdict\u001b[39m(\n\u001b[0;32m     61\u001b[0m         predicted_answers\u001b[38;5;241m=\u001b[39mpredicted_answers,\n\u001b[0;32m     62\u001b[0m         theoretical_answers\u001b[38;5;241m=\u001b[39mtheoretical_answers,\n\u001b[0;32m     63\u001b[0m     ), f, indent\u001b[38;5;241m=\u001b[39m\u001b[38;5;241m4\u001b[39m)\n",
      "File \u001b[1;32m~\\AppData\\Roaming\\Python\\Python311\\site-packages\\IPython\\core\\interactiveshell.py:310\u001b[0m, in \u001b[0;36m_modified_open\u001b[1;34m(file, *args, **kwargs)\u001b[0m\n\u001b[0;32m    303\u001b[0m \u001b[38;5;28;01mif\u001b[39;00m file \u001b[38;5;129;01min\u001b[39;00m {\u001b[38;5;241m0\u001b[39m, \u001b[38;5;241m1\u001b[39m, \u001b[38;5;241m2\u001b[39m}:\n\u001b[0;32m    304\u001b[0m     \u001b[38;5;28;01mraise\u001b[39;00m \u001b[38;5;167;01mValueError\u001b[39;00m(\n\u001b[0;32m    305\u001b[0m         \u001b[38;5;124mf\u001b[39m\u001b[38;5;124m\"\u001b[39m\u001b[38;5;124mIPython won\u001b[39m\u001b[38;5;124m'\u001b[39m\u001b[38;5;124mt let you open fd=\u001b[39m\u001b[38;5;132;01m{\u001b[39;00mfile\u001b[38;5;132;01m}\u001b[39;00m\u001b[38;5;124m by default \u001b[39m\u001b[38;5;124m\"\u001b[39m\n\u001b[0;32m    306\u001b[0m         \u001b[38;5;124m\"\u001b[39m\u001b[38;5;124mas it is likely to crash IPython. If you know what you are doing, \u001b[39m\u001b[38;5;124m\"\u001b[39m\n\u001b[0;32m    307\u001b[0m         \u001b[38;5;124m\"\u001b[39m\u001b[38;5;124myou can use builtins\u001b[39m\u001b[38;5;124m'\u001b[39m\u001b[38;5;124m open.\u001b[39m\u001b[38;5;124m\"\u001b[39m\n\u001b[0;32m    308\u001b[0m     )\n\u001b[1;32m--> 310\u001b[0m \u001b[38;5;28;01mreturn\u001b[39;00m \u001b[43mio_open\u001b[49m\u001b[43m(\u001b[49m\u001b[43mfile\u001b[49m\u001b[43m,\u001b[49m\u001b[43m \u001b[49m\u001b[38;5;241;43m*\u001b[39;49m\u001b[43margs\u001b[49m\u001b[43m,\u001b[49m\u001b[43m \u001b[49m\u001b[38;5;241;43m*\u001b[39;49m\u001b[38;5;241;43m*\u001b[39;49m\u001b[43mkwargs\u001b[49m\u001b[43m)\u001b[49m\n",
      "\u001b[1;31mFileNotFoundError\u001b[0m: [Errno 2] No such file or directory: './cache/generated-squad-saiga-7b.json'"
     ]
    }
   ],
   "source": [
    "import uuid\n",
    "from tqdm import tqdm\n",
    "\n",
    "batch_size = 1\n",
    "\n",
    "predicted_answers = []\n",
    "theoretical_answers = []\n",
    "\n",
    "ds = dataset[\"test\"].shuffle(seed=42)\n",
    "\n",
    "bar = tqdm(ds.iter(batch_size=batch_size), total=len(ds))\n",
    "total = 0\n",
    "for elem in bar:\n",
    "    try:\n",
    "        ids = elem[\"id\"]\n",
    "        context = elem[\"context\"]\n",
    "        question = elem[\"question\"]\n",
    "        answers = elem[\"answers\"]\n",
    "\n",
    "        model_inputs = []\n",
    "        for c, q in zip(context, question):\n",
    "            model_inputs.append(\n",
    "                generate_prompt(\n",
    "                    get_shots(dataset, 3) + [\n",
    "                        dict(\n",
    "                            role=\"user\",\n",
    "                            text=build_question(c, q)\n",
    "                        )\n",
    "                    ],\n",
    "                    do_continue=True\n",
    "                ) + \" \" + build_answer(\"\").strip()\n",
    "            )\n",
    "\n",
    "        model_outputs = forward_model(\n",
    "            prompt=model_inputs,\n",
    "            model=model,\n",
    "            tokenizer=tokenizer,\n",
    "        )\n",
    "\n",
    "        for model_output, id in zip(model_outputs, ids):\n",
    "            predicted_answers.append(dict(\n",
    "                id=id,\n",
    "                prediction_text=model_output,\n",
    "            ))\n",
    "\n",
    "        for ans, id in zip(answers, ids):\n",
    "            theoretical_answers.append(dict(\n",
    "                id=id,\n",
    "                answers=ans,\n",
    "            ))\n",
    "        \n",
    "    except Exception as e:\n",
    "        print(e)\n",
    "        continue\n",
    "\n",
    "\n",
    "\n",
    "\n"
   ]
  },
  {
   "cell_type": "code",
   "execution_count": 10,
   "metadata": {},
   "outputs": [],
   "source": [
    "import os\n",
    "import json\n",
    "\n",
    "# Create the directory if it doesn't exist\n",
    "os.makedirs('./cache', exist_ok=True)\n",
    "with open(f\"./cache/generated-squad-{model_name}.json\", \"w\") as f:\n",
    "    json.dump(dict(\n",
    "        predicted_answers=predicted_answers,\n",
    "        theoretical_answers=theoretical_answers,\n",
    "    ), f, indent=4)"
   ]
  },
  {
   "cell_type": "code",
   "execution_count": 11,
   "metadata": {},
   "outputs": [
    {
     "name": "stdout",
     "output_type": "stream",
     "text": [
      "7609\n"
     ]
    }
   ],
   "source": [
    "import json\n",
    "with open(f\"./cache/generated-squad-{model_name}.json\", \"r\") as f:\n",
    "    data = json.load(f)\n",
    "\n",
    "print(len(data[\"predicted_answers\"]))"
   ]
  },
  {
   "cell_type": "code",
   "execution_count": 12,
   "metadata": {},
   "outputs": [
    {
     "name": "stderr",
     "output_type": "stream",
     "text": [
      "Downloading builder script: 100%|██████████| 4.53k/4.53k [00:00<?, ?B/s]\n",
      "Downloading extra modules: 100%|██████████| 3.32k/3.32k [00:00<?, ?B/s]\n"
     ]
    },
    {
     "name": "stdout",
     "output_type": "stream",
     "text": [
      "=== REPORT ===\n",
      "current date: 13/01/2024 11:19:59\n",
      "Dataset: SQuAD-it\n",
      "Model: saiga-7b\n",
      "{'exact_match': 51.79392824287029, 'f1': 70.87586474960958}\n",
      "==========================\n"
     ]
    }
   ],
   "source": [
    "import evaluate\n",
    "\n",
    "predicted_answers = data[\"predicted_answers\"]\n",
    "theoretical_answers = data[\"theoretical_answers\"]\n",
    "\n",
    "metric = evaluate.load(\"squad\")\n",
    "results = metric.compute(predictions=predicted_answers, references=theoretical_answers)\n",
    "\n",
    "import time\n",
    "\n",
    "\n",
    "print(\"=== REPORT ===\")\n",
    "print(\"current date:\", time.strftime(\"%d/%m/%Y %H:%M:%S\"))\n",
    "print(\"Dataset: SQuAD-it\")\n",
    "print(\"Model:\", model_name)\n",
    "print(results)\n",
    "print(\"==========================\")"
   ]
  },
  {
   "cell_type": "code",
   "execution_count": null,
   "metadata": {},
   "outputs": [],
   "source": []
  }
 ],
 "metadata": {
  "kernelspec": {
   "display_name": "env",
   "language": "python",
   "name": "python3"
  },
  "language_info": {
   "codemirror_mode": {
    "name": "ipython",
    "version": 3
   },
   "file_extension": ".py",
   "mimetype": "text/x-python",
   "name": "python",
   "nbconvert_exporter": "python",
   "pygments_lexer": "ipython3",
   "version": "3.11.6"
  }
 },
 "nbformat": 4,
 "nbformat_minor": 2
}
