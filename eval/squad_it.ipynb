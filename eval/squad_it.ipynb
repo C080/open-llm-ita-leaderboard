{
 "cells": [
  {
   "cell_type": "code",
   "execution_count": 3,
   "metadata": {},
   "outputs": [],
   "source": [
    "import os\n",
    "os.environ[\"HF_HOME\"] = \"E:/huggingface\"\n",
    "\n",
    "#import transformers\n",
    "from datasets import load_dataset\n",
    "\n",
    "\n",
    "dataset = load_dataset(\"squad_it\")\n",
    "DEVICE = \"cuda:0\""
   ]
  },
  {
   "cell_type": "code",
   "execution_count": 2,
   "metadata": {},
   "outputs": [
    {
     "name": "stdout",
     "output_type": "stream",
     "text": [
      "bin c:\\Users\\Samuele\\AppData\\Local\\Programs\\Python\\Python311\\Lib\\site-packages\\bitsandbytes\\libbitsandbytes_cuda121.dll\n"
     ]
    },
    {
     "data": {
      "application/vnd.jupyter.widget-view+json": {
       "model_id": "847261750d864308be7140a86b9aa027",
       "version_major": 2,
       "version_minor": 0
      },
      "text/plain": [
       "Loading checkpoint shards:   0%|          | 0/3 [00:00<?, ?it/s]"
      ]
     },
     "metadata": {},
     "output_type": "display_data"
    },
    {
     "name": "stderr",
     "output_type": "stream",
     "text": [
      "c:\\Users\\Samuele\\AppData\\Local\\Programs\\Python\\Python311\\Lib\\site-packages\\transformers\\generation\\configuration_utils.py:392: UserWarning: `do_sample` is set to `False`. However, `temperature` is set to `0.9` -- this flag is only used in sample-based generation modes. You should set `do_sample=True` or unset `temperature`. This was detected when initializing the generation config instance, which means the corresponding file may hold incorrect parameterization and should be fixed.\n",
      "  warnings.warn(\n",
      "c:\\Users\\Samuele\\AppData\\Local\\Programs\\Python\\Python311\\Lib\\site-packages\\transformers\\generation\\configuration_utils.py:397: UserWarning: `do_sample` is set to `False`. However, `top_p` is set to `0.6` -- this flag is only used in sample-based generation modes. You should set `do_sample=True` or unset `top_p`. This was detected when initializing the generation config instance, which means the corresponding file may hold incorrect parameterization and should be fixed.\n",
      "  warnings.warn(\n"
     ]
    }
   ],
   "source": [
    "from get_model import get_model\n",
    "model_name = \"llamantino\"\n",
    "\n",
    "model, tokenizer = get_model(model_name)\n",
    "#model = model.to(DEVICE) #togliere se in 4 bit"
   ]
  },
  {
   "cell_type": "code",
   "execution_count": 22,
   "metadata": {},
   "outputs": [],
   "source": [
    "from get_prompt import get_prompt\n",
    "# del generate_prompt\n",
    "generate_prompt, stop = get_prompt(model_name) #stop sembra useless"
   ]
  },
  {
   "cell_type": "code",
   "execution_count": 9,
   "metadata": {},
   "outputs": [],
   "source": [
    "def build_question(context, question):\n",
    "    return f\"Dato il seguente testo:\\n{context}\\nRispondi brevemente a questa domanda:\\n{question}\"\n",
    "\n",
    "def build_answer(answer):\n",
    "    return f\"Risposta breve: {answer}\""
   ]
  },
  {
   "cell_type": "code",
   "execution_count": 10,
   "metadata": {},
   "outputs": [],
   "source": [
    "import random\n",
    "\n",
    "def get_shots(dataset, n):\n",
    "    conversation = []\n",
    "    for i in range(n):\n",
    "        elem = random.choice(dataset[\"train\"])\n",
    "        q_shot = build_question(elem[\"context\"], elem[\"question\"])\n",
    "        conversation.append(dict(\n",
    "            role=\"user\",\n",
    "            text=q_shot\n",
    "        ))\n",
    "        conversation.append(dict(\n",
    "            role=\"assistant\",\n",
    "            text=build_answer(elem[\"answers\"][\"text\"][0])\n",
    "        ))\n",
    "    return conversation"
   ]
  },
  {
   "cell_type": "code",
   "execution_count": 7,
   "metadata": {},
   "outputs": [
    {
     "name": "stderr",
     "output_type": "stream",
     "text": [
      "\n",
      "No chat template is defined for this tokenizer - using the default template for the LlamaTokenizerFast class. If the default is not appropriate for your model, please set `tokenizer.chat_template` to an appropriate template. See https://huggingface.co/docs/transformers/main/chat_templating for more information.\n",
      "\n"
     ]
    },
    {
     "name": "stdout",
     "output_type": "stream",
     "text": [
      "<s>[INST] SHOT 1 [/INST] ANSWER 1 </s><s>[INST] SHOT 2 [/INST] ANSWER 2 </s><s>[INST] SHOT 3 [/INST] ANSWER 3 </s><s>[INST] DOMANDA [/INST]\n"
     ]
    }
   ],
   "source": [
    "chat = [\n",
    "  {\"role\": \"user\", \"content\": \"SHOT 1\" },\n",
    "  {\"role\": \"assistant\", \"content\": \"ANSWER 1\"},\n",
    "  {\"role\": \"user\", \"content\": \"SHOT 2\"},\n",
    "  {\"role\": \"assistant\", \"content\": \"ANSWER 2\"},\n",
    "  {\"role\": \"user\", \"content\": \"SHOT 3\"},\n",
    "  {\"role\": \"assistant\", \"content\": \"ANSWER 3\"},\n",
    "  {\"role\": \"user\", \"content\": \"DOMANDA\"},\n",
    "]\n",
    " \n",
    "print(tokenizer.apply_chat_template(chat, tokenize=False))"
   ]
  },
  {
   "cell_type": "code",
   "execution_count": 11,
   "metadata": {},
   "outputs": [],
   "source": [
    "import torch\n",
    "\n",
    "def forward_model(*, prompt, model, tokenizer):\n",
    "    if \"pad_token\" not in tokenizer.special_tokens_map:\n",
    "        tokenizer.pad_token = tokenizer.eos_token\n",
    "\n",
    "    input_ids = tokenizer(\n",
    "        prompt,\n",
    "        return_tensors='pt',\n",
    "        padding=True,\n",
    "    ).input_ids\n",
    "    with torch.no_grad():\n",
    "        input_ids = input_ids.to(DEVICE)\n",
    "        output_ids = model.generate(\n",
    "            input_ids=input_ids,\n",
    "            max_new_tokens=32,\n",
    "            pad_token_id=tokenizer.eos_token_id,\n",
    "            prompt_lookup_num_tokens=10,\n",
    "            temperature = 1\n",
    "        )\n",
    "        # print(output_ids)\n",
    "\n",
    "    ret = []\n",
    "    for i in range(0, len(output_ids)):\n",
    "        generated_text = tokenizer.decode(\n",
    "            output_ids[i],\n",
    "            skip_special_tokens=True\n",
    "        )\n",
    "        #print(generated_text[len(prompt[i]):])\n",
    "        generated_text = generated_text[len(prompt[i]):] #perchè in output_ids c'è anche il prompt!\n",
    "\n",
    "        # if \"\\n\" in generated_text:\n",
    "        #     generated_text = generated_text[:generated_text.index(\"\\n\")] non necessario\n",
    "        \n",
    "        ret.append(generated_text.strip())\n",
    "\n",
    "    return ret"
   ]
  },
  {
   "cell_type": "code",
   "execution_count": null,
   "metadata": {},
   "outputs": [],
   "source": [
    "import time\n",
    "\n",
    "t0 = time.time()\n",
    "out = forward_model(\n",
    "    prompt=[\"ciao mamma come stai?\"],\n",
    "    model=model,\n",
    "    tokenizer=tokenizer,\n",
    ")\n",
    "print(time.time() - t0)\n",
    "\n",
    "print(out[0])"
   ]
  },
  {
   "cell_type": "code",
   "execution_count": 30,
   "metadata": {},
   "outputs": [],
   "source": [
    "def generate_prompt(conversation, do_continue=False):\n",
    "    # prompt = \"\"\"[INST]<<SYS>>\\nSei un assistente disponibile, rispettoso e onesto. Rispondi sempre nel modo piu' utile possibile, pur essendo sicuro. Le risposte non devono includere contenuti dannosi, non etici, razzisti, sessisti, tossici, pericolosi o illegali. Assicurati che le tue risposte siano socialmente imparziali e positive. Se una domanda non ha senso o non e' coerente con i fatti, spiegane il motivo invece di rispondere in modo non corretto. Se non conosci la risposta a una domanda, non condividere informazioni false.\\n<</SYS>>\\n\\n\"\"\"\n",
    "    assert conversation[-1]['role'] == \"user\"\n",
    "    ST, ET = \"<s>\", \"</s>\" #Start/End Text\n",
    "    SUM, EUM = \"[INST]\", \"[/INST]\" #Start/End User Message\n",
    "    prompt = \"\"\n",
    "    for message in conversation:\n",
    "        if message['role'] == \"user\":\n",
    "            prompt += f\"{ST}{SUM}{message['text']}{EUM}\"\n",
    "        elif message['role'] == \"assistant\":\n",
    "            prompt += f\"{message['text']}{ET}\"\n",
    "        else:\n",
    "            raise ValueError(f\"Role not found,\\nFounded {message['role']}\")\n",
    "    \n",
    "\n",
    "    if do_continue:\n",
    "        prompt += \"\\n\" # non mi convince\n",
    "    \n",
    "    return prompt"
   ]
  },
  {
   "cell_type": "code",
   "execution_count": 32,
   "metadata": {},
   "outputs": [
    {
     "name": "stdout",
     "output_type": "stream",
     "text": [
      "<s>[INST]Dato il seguente testo:\n",
      "Nell' estate del 1986, Queen ha fatto il loro tour finale con Freddie Mercury. Un tour sold-out a sostegno di A Kind of Magic, ancora una volta hanno assunto Spike Edney, portando a lui essere soprannominato il quinto membro non ufficiale. Il brano clou del Magic Tour è stato al Wembley Stadium di Londra e ha portato al doppio album live Queen at Wembley, uscito su CD e come DVD da concerto dal vivo, che è andato cinque volte al platino negli Stati Uniti e quattro volte al platino nel Regno Unito. Regina non poteva prenotare Wembley per una terza notte, ma hanno fatto giocare a Knebworth Park. Lo spettacolo si è esaurito nel giro di due ore e oltre 120.000 fan hanno riempito il parco per quella che era la performance finale della regina con Mercury. Queen ha iniziato il tour al Råsunda Stadium di Stoccolma, in Svezia, e durante il tour la band ha eseguito un concerto a Slane Castle, Irlanda, davanti ad un pubblico di 95.000 spettatori, che ha rotto il record di presenze del locale. La band ha suonato anche dietro la cortina di ferro quando si è esibita con una folla di 80.000 persone al Népstadion di Budapest, in quello che era uno dei più grandi concerti rock mai tenuti nell' Europa orientale. Più di un milione di persone hanno visto regina nel tour-400.000 nel solo Regno Unito, un record del momento.\n",
      "Rispondi brevemente a questa domanda:\n",
      "Quanti fan hanno visto Queen nel parco Knebworth?[/INST]Risposta breve: 120.000</s><s>[INST]Dato il seguente testo:\n",
      "Per dirla in un altro modo, una cosa o persona è spesso vista come avente un'\"essenza definente\" o una \"identità centrale\" che è immutabile, e descrive ciò che la cosa o la persona è realmente. In questo modo di pensare, le cose e le persone sono viste fondamentalmente come le stesse nel tempo, con cambiamenti qualitativi e secondari rispetto alla loro identità centrale (ad es. \"I capelli di Mark sono diventati grigi quando ha invecchiato, ma è ancora la stessa persona\"). Ma nella cosmologia di Whitehead, le uniche cose fondamentalmente esistenti sono \"occasioni discrete di esperienza\" che si sovrappongono l' una all' altra nel tempo e nello spazio, e insieme costituiscono la persona o cosa duratura. D' altra parte, ciò che il pensiero ordinario spesso considera come \"l' essenza di una cosa\" o \"l' identità/nucleo di una persona\" è una generalizzazione astratta di ciò che viene considerato come le caratteristiche più importanti o salienti di quella persona o cosa nel tempo. Le identità non definiscono le persone, le persone definiscono le identità. Tutto cambia da un momento all' altro, e pensare che qualcosa abbia un'\"essenza duratura\" perde il fatto che \"tutte le cose fluiscono\", anche se spesso è un modo utile di parlare.\n",
      "Rispondi brevemente a questa domanda:\n",
      "Secondo Whitehead, le identità non definiscono le persone, ma cosa?[/INST]Risposta breve: le persone definiscono le identità</s><s>[INST]Dato il seguente testo:\n",
      "Houston è stata fondata nel 1836 su un terreno vicino alle rive di Buffalo Bayou (ora noto come Landing di Allen) e incorporata come città il 5 giugno 1837. La città ha preso il nome dall' ex generale Sam Houston, che era presidente della Repubblica del Texas ed aveva comandato e vinto alla battaglia di San Jacinto 25 miglia (40 km) a est di dove la città è stata fondata. Il fiorente settore portuale e ferroviario, unito alla scoperta del petrolio nel 1901, ha portato a continue impennate nella popolazione della città. A metà del XX secolo, Houston è diventata la sede del Texas Medical Center - la più grande concentrazione al mondo di istituzioni sanitarie e di ricerca - e del Johnson Space Center della NASA, dove si trova il Mission Control Center.\n",
      "Rispondi brevemente a questa domanda:\n",
      "Quando è stata incorporata la città di Houston?[/INST]Risposta breve: 5 giugno 1837</s><s>[INST]Dato il seguente testo:\n",
      "Ctenophora (ctenoforo singolare; dal greco??? kteis' pettine' e??? pher' carry', comunemente conosciuto come gelatine di pettine) è un phylum di animali che vivono in acque marine in tutto il mondo. La loro caratteristica più distintiva è il \"pettine\" - gruppi di ciglia che usano per nuotare - sono gli animali più grandi che nuotano per mezzo di ciglia. Gli adulti di varie specie variano da pochi millimetri a 1,5 m (4 piedi 11 pollici) in taglia. Come i cnidari, i loro corpi sono costituiti da una massa di gelatina, con uno strato di cellule all' esterno e un altro che riveste la cavità  interna. In ctenore, questi strati sono profondi due cellule, mentre quelli in cnidari sono profondi solo una cellula. Alcuni autori hanno combinato ctenorefori e cnidari in un unico phylum, Coelenterata, in quanto entrambi i gruppi si affidano al flusso d' acqua attraverso la cavità  corporea sia per la digestione che per la respirazione. La crescente consapevolezza delle differenze ha convinto gli autori più recenti a classificarli come phyla separati.\n",
      "Rispondi brevemente a questa domanda:\n",
      "Quali dimensioni sono adulti Ctenophora?[/INST] Risposta breve:\n"
     ]
    }
   ],
   "source": [
    "### CELLA DI PROVA DEL NUOVO GET PROMPT DI SAIGA-ITA-7B!!!!!!!!!!!!!!!!!!!!!!!!!!!!!!!\n",
    "import uuid\n",
    "from tqdm import tqdm\n",
    "\n",
    "batch_size = 1\n",
    "\n",
    "predicted_answers = []\n",
    "theoretical_answers = []\n",
    "\n",
    "ds = dataset[\"test\"].shuffle(seed=42)\n",
    "\n",
    "total = 0\n",
    "for i in range(3):\n",
    "    elem     = ds[i].copy()\n",
    "    ids      = elem[\"id\"]\n",
    "    context  = elem[\"context\"]\n",
    "    question = elem[\"question\"]\n",
    "    answers  = elem[\"answers\"]\n",
    "\n",
    "    model_inputs = []\n",
    "    chat = get_shots(dataset, 3) + [\n",
    "                dict(\n",
    "                    role=\"user\",\n",
    "                    text=build_question(context, question)\n",
    "                )\n",
    "            ]\n",
    "    model_inputs.append(\n",
    "        generate_prompt(\n",
    "        # scrive tre esempi non come  prompt ma come cronologia di chat: role: user -> text: domanda, role: assistant -> text: risposta breve\n",
    "            chat,\n",
    "            do_continue=False\n",
    "        ) + \" \" + build_answer(\"\").strip()\n",
    "    )\n",
    "\n",
    "print(model_inputs[0])"
   ]
  },
  {
   "cell_type": "code",
   "execution_count": 33,
   "metadata": {},
   "outputs": [
    {
     "name": "stderr",
     "output_type": "stream",
     "text": [
      "  0%|          | 0/7609 [00:00<?, ?it/s]c:\\Users\\Samuele\\AppData\\Local\\Programs\\Python\\Python311\\Lib\\site-packages\\transformers\\generation\\configuration_utils.py:397: UserWarning: `do_sample` is set to `False`. However, `top_p` is set to `0.6` -- this flag is only used in sample-based generation modes. You should set `do_sample=True` or unset `top_p`.\n",
      "  warnings.warn(\n",
      "  0%|          | 1/7609 [00:04<10:17:53,  4.87s/it]"
     ]
    },
    {
     "name": "stdout",
     "output_type": "stream",
     "text": [
      "DOMANDA:\n",
      "<s>[INST]Dato il seguente testo:\n",
      "La ricerca da allora rivela che l' auto-esame inizia precocemente nell' adolescenza, ma il raggiungimento dell' identità raramente avviene prima dei 18 anni. L' anno matricola del college influenza significativamente lo sviluppo dell' identità, ma può in realtà prolungare la moratoria psicosociale incoraggiando il riesame degli impegni precedenti e l' ulteriore esplorazione di possibilità alternative senza incoraggiare la risoluzione. Per la maggior parte, l' evidenza ha supportato le fasi di Erikson: ciascuna di esse è correlata ai tratti di personalità da lui originariamente previsti. Gli studi confermano anche l' impermanenza delle fasi; non esiste un punto finale nello sviluppo dell' identità.\n",
      "Rispondi brevemente a questa domanda:\n",
      "C' è un ultimo punto finale nello sviluppo dell' identità?[/INST]Risposta breve: no</s><s>[INST]Dato il seguente testo:\n",
      "Nell' esercizio finanziario chiuso al 31 luglio 2013, Imperial ha registrato un utile netto totale di 822,0 milioni di sterline (2011/12 - 765,2 milioni di sterline) e una spesa totale di 754,9 milioni di sterline (2011/12 - 702,0 milioni di sterline). Tra le principali fonti di reddito figurano 329,5 milioni di sterline inglesi provenienti da borse di studio e contratti di ricerca (2011/12 - 313,9 milioni di sterline inglesi), 186,3 milioni di sterline inglesi provenienti da tasse accademiche e sovvenzioni di sostegno (2011/12 - 163,1 milioni di sterline inglesi), 168,9 milioni di sterline inglesi provenienti da sovvenzioni del Consiglio Finanziamento (2011/12 - 172,4 milioni di sterline inglesi) e 12,5 milioni di sterline inglesi provenienti da dotazioni e proventi da investimenti (2011/12 - 8,1 milione di 8,1 milione di sterline inglesi). Durante l' esercizio finanziario 2012/13 Imperial ha registrato un esborso in conto capitale di 124 milioni di sterline (2011/12 - 152 milioni).\n",
      "Rispondi brevemente a questa domanda:\n",
      "Quali sono stati gli investimenti di Imperial per l' esercizio 2012/2013?[/INST]Risposta breve: 124 milioni di sterline</s><s>[INST]Dato il seguente testo:\n",
      "I gruppi Lie sono di fondamentale importanza nella fisica moderna: il teorema di Noether lega simmetrie continue a quantità conservate. La rotazione, così come le traduzioni nello spazio e nel tempo sono simmetrie di base delle leggi della meccanica. Essi possono, ad esempio, essere utilizzati per costruire modelli semplici - imponendo, ad esempio, simmetria assiale su una situazione porterà tipicamente a una significativa semplificazione delle equazioni che si deve risolvere per fornire una descrizione fisica. v['] Un altro esempio sono le trasformazioni Lorentz, che mettono in relazione le misurazioni del tempo e della velocità di due osservatori in movimento l' uno rispetto all' altro. Si possono dedurre in modo puramente gruppo-teorico, esprimendo le trasformazioni come simmetria rotazionale dello spazio Minkowski. Quest' ultimo serve - in assenza di gravitazione significativa - come modello di spazio-tempo in relatività speciale. Il gruppo completo di simmetria dello spazio Minkowski, cioè comprese le traduzioni, è noto come gruppo Poincaré. Da quanto sopra, svolge un ruolo centrale nella relatività speciale e, implicitamente, nelle teorie del campo quantistico. Simmetrie che variano con la posizione sono centrali per la moderna descrizione delle interazioni fisiche con l' aiuto della teoria del calibro.\n",
      "Rispondi brevemente a questa domanda:\n",
      "Che cosa connette le simmetrie continue alle quantità conservate?[/INST]Risposta breve: teorema di Noether</s><s>[INST]Dato il seguente testo:\n",
      "L' inaugurazione ufficiale della regina Vittoria risale al 22 giugno 1857. Nell' anno successivo sono state introdotte le aperture notturne, rese possibili dall' utilizzo dell' illuminazione a gas. Questo per permettere, secondo le parole di Cole,\"di accertare praticamente quali ore sono più convenienti per le classi lavoratrici\", era legato all' uso delle collezioni di arte applicata e scienza come risorse educative per contribuire a rilanciare l' industria produttiva. In questi primi anni l' utilizzo pratico della collezione è stato molto enfatizzato rispetto a quello di \"High Art\" presso la National Gallery e la borsa di studio del British Museum. George Wallis (1811-1891), il primo custode della collezione d' arte, promosse con passione l' idea di un' ampia educazione artistica attraverso le collezioni del museo. Ciò portò al trasferimento al museo della Scuola di Design fondata nel 1837 presso la Somerset House; dopo il trasferimento venne chiamata Scuola d' Arte o Scuola di Formazione Artistica, per poi diventare il Royal College of Art che finalmente raggiunse la piena indipendenza nel 1949. Dal 1860 al 1880 le collezioni scientifiche sono state spostate dalla sede principale del museo a varie gallerie improvvisate ad ovest della strada espositiva. Nel 1893 il \"Museo della Scienza\" era effettivamente nato con la nomina di un direttore separato.\n",
      "Rispondi brevemente a questa domanda:\n",
      "In quale anno il Royal College of Art ha ottenuto la piena indipendenza dal V&A?[/INST]\n",
      " Risposta breve:\n",
      "\n",
      "RISPOSTA\n",
      " 1949.\n",
      "SOLUZIONE\n",
      "['1949', '1949', '1949']\n",
      "\n"
     ]
    },
    {
     "name": "stderr",
     "output_type": "stream",
     "text": [
      "  0%|          | 2/7609 [00:12<13:44:07,  6.50s/it]"
     ]
    },
    {
     "name": "stdout",
     "output_type": "stream",
     "text": [
      "DOMANDA:\n",
      "<s>[INST]Dato il seguente testo:\n",
      "Sia l' allevamento intensivo che quello all' aperto presentano preoccupazioni per il benessere degli animali. Nei sistemi intensivi, il cannibalismo, il beccaggio delle piume e lo sfiato possono essere comuni, con alcuni agricoltori che utilizzano la rifilatura del becco come misura preventiva. Le malattie possono anche essere comuni e diffondersi rapidamente attraverso il gregge. In sistemi estensivi, gli uccelli sono esposti a condizioni meteorologiche avverse e sono vulnerabili ai predatori e agli uccelli selvatici portatori di malattie. I sistemi del fienile sono stati trovati per avere il peggior benessere degli uccelli. Nel sud-est asiatico, la mancanza di controllo della malattia nell' allevamento all' aperto è stata associata a focolai di influenza aviaria.\n",
      "Rispondi brevemente a questa domanda:\n",
      "Quali dure misure usano gli allevatori per impedire che i polli danneggino se stessi o gli altri?[/INST]Risposta breve: alcuni agricoltori che utilizzano la rifilatura del becco come misura preventiva</s><s>[INST]Dato il seguente testo:\n",
      "Le università create da trattati bilaterali o multilaterali tra Stati sono intergovernative. Un esempio è l' Accademia di diritto europeo, che offre corsi di formazione in diritto europeo ad avvocati, giudici, avvocati, avvocati, avvocati, consulenti interni e accademici. EUCLID (Pôle Universitaire Euclide, Euclid University) è fondata come organizzazione universitaria e ombrello dedicata allo sviluppo sostenibile nei paesi firmatari, e l' Università delle Nazioni Unite si impegna negli sforzi per risolvere i pressanti problemi globali che preoccupano le Nazioni Unite, i suoi popoli e gli stati membri. L' Istituto Universitario Europeo, un' università post-laurea specializzata in scienze sociali, è ufficialmente un' organizzazione intergovernativa, istituita dagli stati membri dell' Unione Europea.\n",
      "Rispondi brevemente a questa domanda:\n",
      "Su quale tipo di studio si concentra l' Istituto universitario europeo?[/INST]Risposta breve: scienze sociali</s><s>[INST]Dato il seguente testo:\n",
      "Due rami principali esistenti del buddismo sono generalmente riconosciuti dagli studiosi: Theravada (\"La scuola degli anziani\") e Mahayana (\"Il grande veicolo\"). Vajrayana, un corpo di insegnamenti attribuiti a siddha indiani, può essere visto come un terzo ramo o solo una parte del Mahayana. Theravada ha un ampio seguito in Sri Lanka e nel sud-est asiatico. Mahayana che comprende le tradizioni di Pure Land, Zen, Nichiren Buddhismo, Shingon e Tiantai (Tendai) si trova in tutta l' Asia orientale. Il buddismo tibetano, che conserva gli insegnamenti Vajrayana dell' India dell' ottavo secolo, è praticato nelle regioni che circondano l' Himalaya, la Mongolia e la Kalmykia. Buddisti numero tra circa 488 milioni[web 1] e 535 milioni di buddisti, che lo rende una delle principali religioni del mondo.\n",
      "Rispondi brevemente a questa domanda:\n",
      "Che tipo di insegnamenti conserva il buddismo tibetano?[/INST]Risposta breve: Vajrayana</s><s>[INST]Dato il seguente testo:\n",
      "Le leggi di Newton e la meccanica newtoniana in generale sono state sviluppate per la prima volta per descrivere come le forze influenzano le particelle puntiformi idealizzate piuttosto che gli oggetti tridimensionali. Tuttavia, nella vita reale, la materia ha una struttura estesa e le forze che agiscono su una parte di un oggetto possono influenzare altre parti di un oggetto. Per situazioni in cui il reticolo che tiene insieme gli atomi in un oggetto è in grado di fluire, contrarre, espandere o altrimenti modificare la forma, le teorie della meccanica continuum descrivono il modo in cui le forze influenzano il materiale. Ad esempio, nei fluidi estesi, le differenze di pressione provocano l' indirizzamento delle forze lungo i gradienti di pressione come segue:\n",
      "Rispondi brevemente a questa domanda:\n",
      "Che cosa può influenzare una forza su una parte di un oggetto?[/INST]\n",
      " Risposta breve:\n",
      "\n",
      "RISPOSTA\n",
      " La struttura estesa del materiale e il movimento del reticolo che tiene insieme gli atomi in un oggetto.\n",
      "SOLUZIONE\n",
      "['altre parti', 'altre parti di un oggetto', 'altre parti di un oggetto', 'altre parti di un oggetto']\n",
      "\n"
     ]
    },
    {
     "name": "stderr",
     "output_type": "stream",
     "text": [
      "  0%|          | 3/7609 [00:15<10:48:27,  5.12s/it]"
     ]
    },
    {
     "name": "stdout",
     "output_type": "stream",
     "text": [
      "DOMANDA:\n",
      "<s>[INST]Dato il seguente testo:\n",
      "Il protestantesimo si diffuse anche dalle terre tedesche in Francia, dove i protestanti furono soprannominati ugonotti. Calvin continuò ad interessarsi agli affari religiosi francesi dalla sua base a Ginevra. Ha formato regolarmente i pastori per guidare le congregazioni. Nonostante le pesanti persecuzioni, la tradizione riformata ha compiuto progressi costanti in vaste sezioni della nazione, facendo appello a persone alienate dall' obdurabilità e dalla compiacenza dell' establishment cattolico. Il protestantesimo francese acquisì un carattere nettamente politico, reso ancor più evidente dalle conversioni dei nobili nel corso degli anni Cinquanta. Ciò ha creato i presupposti per una serie di conflitti, noti come guerre di religione francese. Le guerre civili conquistarono slancio con la morte improvvisa di Enrico II di Francia nel 1559. L' atrocità e l' indignazione divennero le caratteristiche distintive dell' epoca, illustrate al massimo della loro intensità nel massacro del giorno di S. Bartolomeo dell' agosto 1572, quando il partito cattolico romano annientò tra i 30.000 e i 100.000 ugonotti in tutta la Francia. Le guerre si conclusero solo quando Enrico IV di Francia emanò l' Editto di Nantes, promettendo la tolleranza ufficiale della minoranza protestante, ma in condizioni molto ristrette. Il cattolicesimo romano rimase la religione ufficiale dello Stato, e le fortune dei protestanti francesi diminuirono gradualmente nel secolo successivo, culminando nell' Editto di Fontainebleau di Luigi XIV, che revocò l' Editto di Nantes e fece del cattolicesimo romano l' unica religione legale ancora una volta. In risposta all' Editto di Fontainebleau, Federico Guglielmo I, elettore di Brandeburgo, dichiarò l' Editto di Potsdam, dando libero passaggio ai rifugiati uguenot. Alla fine del XVII secolo molti Huguenot fuggirono in Inghilterra, Olanda, Prussia, Svizzera e le colonie inglesi e olandesi d' oltremare. Una comunità significativa in Francia è rimasta nella regione di Cévennes.\n",
      "Rispondi brevemente a questa domanda:\n",
      "La cui morte ha provocato un aumento delle guerre civili francesi?[/INST]Risposta breve: Enrico II</s><s>[INST]Dato il seguente testo:\n",
      "L' Università di Washington supporta quattro grandi media gestiti da studenti. Il giornale studentesco dell' università, Student Life, è a disposizione degli studenti. KWUR (90.3 FM) funge da stazione radio ufficiale degli studenti; l' emittente attira un pubblico anche nella comunità circostante grazie alla sua eclettica e libera programmazione musicale. WUTV è il canale televisivo a circuito chiuso dell' università. La principale pubblicazione politica gestita dagli studenti dell' università è la Washington University Political Review (nickname \"WUPR\"), una rivista mensile autodescritta \"multipartisan\". Laureati della Washington University pubblicano due riviste letterarie e d' arte, The Eliot Review e Spires Intercollegiate Arts and Literary Magazine. Una varietà di altre pubblicazioni sono al servizio della comunità universitaria, che vanno dalle riviste accademiche interne alle riviste di alumni lucidi fino a WUnderground, il giornale satirico gestito dagli studenti del campus.\n",
      "Rispondi brevemente a questa domanda:\n",
      "Quanti sono i media supportati dall' Università di Washington?[/INST]Risposta breve: quattro</s><s>[INST]Dato il seguente testo:\n",
      "Quando un documento storico sopravvive solo nella traduzione, visto che l' originale è andato perduto, i ricercatori a volte intraprendono la traduzione a ritroso nel tentativo di ricostruire il testo originale. Un esempio riguarda il romanzo Il manoscritto di Saragozza dell' aristocratico polacco Jan Potocki (1761-1815), che scrisse il romanzo in francese e pubblicò frammenti in forma anonima nel 1804 e 1813-14. Parti del manoscritto originale in lingua francese sono andate poi perdute; tuttavia, i frammenti mancanti sono sopravvissuti in una traduzione polacca fatta da Edmund Chojecki nel 1847 da una copia francese completa, ora perduta. Da allora sono state prodotte versioni in lingua francese del Manoscritto completo di Saragozza, basate su frammenti esistenti in lingua francese e versioni in lingua francese che sono state tradotte a ritroso dalla versione polacca di Chojecki.\n",
      "Rispondi brevemente a questa domanda:\n",
      "In quale lingua era scritto originariamente il Manoscritto di Saragozza?[/INST]Risposta breve: francese</s><s>[INST]Dato il seguente testo:\n",
      "Ctenophora (ctenoforo singolare; dal greco??? kteis' pettine' e??? pher' carry', comunemente conosciuto come gelatine di pettine) è un phylum di animali che vivono in acque marine in tutto il mondo. La loro caratteristica più distintiva è il \"pettine\" - gruppi di ciglia che usano per nuotare - sono gli animali più grandi che nuotano per mezzo di ciglia. Gli adulti di varie specie variano da pochi millimetri a 1,5 m (4 piedi 11 pollici) in taglia. Come i cnidari, i loro corpi sono costituiti da una massa di gelatina, con uno strato di cellule all' esterno e un altro che riveste la cavità  interna. In ctenore, questi strati sono profondi due cellule, mentre quelli in cnidari sono profondi solo una cellula. Alcuni autori hanno combinato ctenorefori e cnidari in un unico phylum, Coelenterata, in quanto entrambi i gruppi si affidano al flusso d' acqua attraverso la cavità  corporea sia per la digestione che per la respirazione. La crescente consapevolezza delle differenze ha convinto gli autori più recenti a classificarli come phyla separati.\n",
      "Rispondi brevemente a questa domanda:\n",
      "Quali dimensioni sono adulti Ctenophora?[/INST]\n",
      " Risposta breve:\n",
      "\n",
      "RISPOSTA\n",
      " da pochi millimetri a 1,5 m (4 piedi 11 pollici) in taglia.\n",
      "SOLUZIONE\n",
      "['pochi millimetri a 1,5 m']\n",
      "\n"
     ]
    },
    {
     "name": "stderr",
     "output_type": "stream",
     "text": [
      "  0%|          | 4/7609 [00:19<9:19:36,  4.42s/it] "
     ]
    },
    {
     "name": "stdout",
     "output_type": "stream",
     "text": [
      "DOMANDA:\n",
      "<s>[INST]Dato il seguente testo:\n",
      "L' accordo di sciroppo del febbraio 2007 e l' accordo di pace di Birao dell' aprile 2007 hanno chiesto la cessazione delle ostilità, il bocciardamento dei combattenti dell' FDPC e la loro integrazione con il FACA, la liberazione dei prigionieri politici, l' integrazione dell' FDPC nel governo, un' amnistia per l' UFDR, il suo riconoscimento come partito politico e l' integrazione dei suoi combattenti nell' esercito nazionale. Diversi gruppi hanno continuato a combattere, ma altri gruppi hanno firmato l' accordo, o accordi simili con il governo (ad esempio UFR il 15 dicembre 2008). L' unico gruppo importante a non firmare un accordo all' epoca era il CPJP, che ha continuato le sue attività e ha firmato un accordo di pace con il governo il 25 agosto 2012. Accordo sciroppo.\n",
      "Rispondi brevemente a questa domanda:\n",
      "Quando è stato firmato l' accordo di pace di Birao?[/INST]Risposta breve: aprile 2007</s><s>[INST]Dato il seguente testo:\n",
      "Nel corso della loro storia, gli Slavi entrarono in contatto con gruppi non slavi. Nella postulata regione patria (oggi Ucraina), hanno avuto contatti con i sarmati iraniani e i Goti germanici. Dopo la loro successiva diffusione, cominciarono ad assimilare i popoli non slavi. Per esempio, nei Balcani c' erano popoli balcanici balcanici, come Romanizzati ed Ellenizzati (Gire? ek Line), Illiri, Traci e Daci, nonché Greci e Scordisci Celtici. Nel corso del tempo, a causa del maggior numero di slavi, la maggior parte dei discendenti delle popolazioni indigene dei Balcani sono stati slavizzati. Traci e Illiri scomparvero dalla popolazione durante questo periodo - anche se la moderna nazione albanese rivendica la discesa dagli Illiri. Eccezioni sono la Grecia, dove gli slavi meno numerati sparsi ci sono venuti a essere ellenizzati (aiutati nel tempo da più greci di ritorno in Grecia nel IX secolo e il ruolo della chiesa e l' amministrazione) e la Romania dove il popolo slavo si stabilì in viaggio per l' attuale Grecia, Repubblica di Macedonia, Bulgaria e Tracia orientale in cui la popolazione slava era venuto ad assimilare. Anche i bulgari sono stati assimilati dagli Slavi locali, ma il loro status di governanti e le terre successive hanno conferito alle generazioni future il retaggio nominale del paese e del popolo bulgaro. I parlanti Romance all' interno delle città fortificate dalmate sono riusciti a mantenere la loro cultura e lingua per lungo tempo, come dalmata Romance è stato parlato fino all' alto Medioevo. Tuttavia, anche loro furono alla fine assimilati nel corpo degli Slavi.\n",
      "Rispondi brevemente a questa domanda:\n",
      "Dopo la loro successiva diffusione, cominciarono ad assimilare chi?[/INST]Risposta breve: popoli non slavi</s><s>[INST]Dato il seguente testo:\n",
      "Tuttavia, secondo l' allora sottosegretario di Stato Colin Powell, l' UNFPA ha fornito veicoli e computer ai cinesi per attuare le loro politiche di controllo della popolazione. Tuttavia, sia il Washington Post e il Washington Times ha riferito che Powell semplicemente cadde in linea, firmando un breve scritto da qualcun altro. politiche di controllo della popolazione.\n",
      "Rispondi brevemente a questa domanda:\n",
      "Quali documenti hanno riferito su questo incidente?[/INST]Risposta breve: Washington Post e il Washington Times</s><s>[INST]Dato il seguente testo:\n",
      "La guerra in Nord America si concluse ufficialmente con la firma del Trattato di Parigi il 10 febbraio 1763, e la guerra nel teatro europeo della guerra dei Sette anni fu risolta con il Trattato di Hubertusburg il 15 febbraio 1763. Gli inglesi offrirono alla Francia la scelta di cedere i propri possedimenti continentali nordamericani ad est del Mississippi o le isole caraibiche di Guadalupa e Martinica, occupate dagli inglesi. La Francia ha scelto di cedere il primo, ma è stata in grado di negoziare il mantenimento di Saint Pierre e Miquelon, due piccole isole nel Golfo di San Lorenzo, insieme ai diritti di pesca nella zona. Consideravano il valore economico della canna da zucchero delle isole caraibiche maggiore e più facile da difendere rispetto alle pellicce del continente. Il filosofo francese contemporaneo Voltaire ha definito il Canada come qualcosa di più di qualche acro di neve. Gli inglesi, da parte loro, erano felici di prendere New France, come difesa delle loro colonie nordamericane non sarebbe più un problema e anche perchè avevano già ampi posti da cui ottenere lo zucchero. La Spagna, che commercializzava la Florida in Gran Bretagna per riconquistare Cuba, ha anche guadagnato la Louisiana, compresa New Orleans, dalla Francia per compensare le sue perdite. Gran Bretagna e Spagna concordarono anche che la navigazione sul fiume Mississippi doveva essere aperta alle navi di tutte le nazioni. firma del trattato di Parigi il 10 febbraio 1763.\n",
      "Rispondi brevemente a questa domanda:\n",
      "Quando è finita la guerra nordamericana francese e indiana?[/INST]\n",
      " Risposta breve:\n",
      "\n",
      "RISPOSTA\n",
      " 10 febbraio 1763.\n",
      "SOLUZIONE\n",
      "['10 febbraio 1763', '10 febbraio 1763', '10 febbraio 1763', '10 febbraio 1763']\n",
      "\n"
     ]
    },
    {
     "name": "stderr",
     "output_type": "stream",
     "text": [
      "  0%|          | 5/7609 [00:23<8:51:35,  4.19s/it]"
     ]
    },
    {
     "name": "stdout",
     "output_type": "stream",
     "text": [
      "DOMANDA:\n",
      "<s>[INST]Dato il seguente testo:\n",
      "Il Tibet era un tempo una forte potenza contemporanea con Tang China (618-907). Fino al crollo dell' impero tibetano nel IX secolo, fu il principale rivale del Tang nel dominare l' Asia interna. Anche i governanti Yarlung del Tibet hanno firmato vari trattati di pace con il Tang, culminati in un trattato dell' 821 che fissava i confini tra Tibet e Cina.\n",
      "Rispondi brevemente a questa domanda:\n",
      "Che cosa ha contribuito a risolvere uno dei trattati tra il Tang e il Tibet?[/INST]Risposta breve: i confini tra Tibet e Cina</s><s>[INST]Dato il seguente testo:\n",
      "Il Terzo Grande Risveglio si riferisce ad un ipotetico periodo storico che fu segnato dall' attivismo religioso nella storia americana e va dalla fine degli anni Cinquanta del 1850 all' inizio del XX secolo. Ha colpito le pietistiche confessioni protestanti e ha avuto un forte elemento di attivismo sociale. Essa raccolse forza dalla convinzione postmillenaria che la seconda venuta di Cristo sarebbe avvenuta dopo che l' umanità aveva riformato tutta la terra. Essa è stata affiliata al Movimento evangelico sociale, che ha applicato il cristianesimo alle questioni sociali e ha guadagnato la sua forza dal Risveglio, come ha fatto il movimento missionario mondiale. Sono emersi nuovi raggruppamenti, come i movimenti di Santità, Nazareno e Scienze Cristiane.\n",
      "Rispondi brevemente a questa domanda:\n",
      "Quali nuovi gruppi si sono formati a seguito del Terzo Grande Risveglio?[/INST]Risposta breve: i movimenti di Santità, Nazareno e Scienze Cristiane</s><s>[INST]Dato il seguente testo:\n",
      "Alcuni esempi: la Convenzione quadro delle Nazioni Unite sui cambiamenti climatici (UNFCCC) ha stabilito un quadro per lo sviluppo di limiti vincolanti per le emissioni di gas a effetto serra, mentre il Protocollo di Kyoto conteneva le disposizioni e i regolamenti specifici successivamente concordati.\n",
      "Rispondi brevemente a questa domanda:\n",
      "Il Protocollo di Kyoto è associato a quale trattato?[/INST]Risposta breve: Convenzione quadro delle Nazioni Unite sui cambiamenti climatici</s><s>[INST]Dato il seguente testo:\n",
      "La pratica della farmacia consulente si concentra maggiormente sulla revisione del regime farmacologico (cioè \"servizi cognitivi\") rispetto alla somministrazione effettiva di droghe. I farmacisti consulenti lavorano generalmente in case di cura, ma sempre più spesso si diramano verso altre istituzioni e contesti non istituzionali. Tradizionalmente i farmacisti consulenti erano solitamente imprenditori indipendenti, anche se negli Stati Uniti molti lavorano attualmente per diverse grandi società di gestione farmaceutica (soprattutto Omnicare, Kindred Healthcare e PharMerica). Questa tendenza potrebbe gradualmente invertirsi man mano che i farmacisti consulenti iniziano a lavorare direttamente con i pazienti, soprattutto perchè molti anziani stanno assumendo numerosi farmaci ma continuano a vivere al di fuori degli ambiti istituzionali. Alcune farmacie comunitarie si avvalgono di consulenti farmacisti e/o forniscono servizi di consulenza. revisione regime farmacologico.\n",
      "Rispondi brevemente a questa domanda:\n",
      "Di cosa si occupa principalmente il consulente farmaceutico?[/INST]\n",
      " Risposta breve:\n",
      "\n",
      "RISPOSTA\n",
      " La pratica della farmacia consulente si concentra principalmente sulla revisione del regime farmacologico.\n",
      "SOLUZIONE\n",
      "['revisione regime farmacologico', 'revisione regime farmacologico']\n",
      "\n"
     ]
    },
    {
     "name": "stderr",
     "output_type": "stream",
     "text": [
      "  0%|          | 6/7609 [00:24<7:04:01,  3.35s/it]"
     ]
    },
    {
     "name": "stdout",
     "output_type": "stream",
     "text": [
      "DOMANDA:\n",
      "<s>[INST]Dato il seguente testo:\n",
      "Le forze politiche liberali mantennero un forte controllo sul governo statale fino a poco dopo l' intervento francese che voltò i tavoli a favore delle forze conservatrici ancora una volta. L' intervento ha avuto gravi ripercussioni sullo stato di Chihuahuahua. Il presidente Juárez, nel tentativo di organizzare una forte difesa contro i francesi, ha decretato un elenco delle unità di guardia nazionale che ogni Stato doveva contribuire al Ministero della Guerra e della Marina; Chihuahua era responsabile per l' indurimento di 2.000 uomini. Il governatore Luis Terrazas ha assegnato al potere il Primo battaglione di Chihuahuahua per l' integrazione nell' esercito nazionale guidato dal generale Jesús González Ortega; il battaglione è stato schierato a Puebla. Dopo la sconfitta dell' esercito di Puebla, l' amministrazione Juárez fu costretta ad abbandonare Città del Messico; il presidente si ritirò più a nord cercando rifugio nello stato di Chihuahua.\n",
      "Rispondi brevemente a questa domanda:\n",
      "L' intervento ha avuto gravi conseguenze per quale Stato?[/INST]Risposta breve: liberal</s><s>[INST]Dato il seguente testo:\n",
      "L' Arsenal fu il primo club del sud dell' Inghilterra ad entrare a far parte della Lega Calcio nel 1893. Sono entrati nella prima divisione nel 1904, e da allora hanno accumulato la seconda maggior parte dei punti. Relegati una sola volta, nel 1913, continuano la striscia più lunga nella divisione superiore. Negli anni Trenta, l' Arsenal vinse cinque campionati di Lega e due FA Cup, e un' altra FA Cup e due campionati dopo la guerra. Nel 1970-71, hanno vinto la loro prima lega e FA Cup Double. Tra il 1988 e il 2005, hanno vinto cinque titoli di lega e cinque FA Cup, tra cui altri due doppioni. Hanno completato il 20 ° secolo con la più alta posizione media campionato.\n",
      "Rispondi brevemente a questa domanda:\n",
      "In quale anno l' Arsenal ha aderito al campionato di calcio?[/INST]Risposta breve: 1893</s><s>[INST]Dato il seguente testo:\n",
      "La Grande Londra comprende una superficie totale di 1.583 chilometri quadrati (611 kmq), una superficie che nel 2001 contava 7.172.036 abitanti e una densità abitativa di 4.542 abitanti per chilometro quadrato (11.760 mq). L' area ampliata nota come Regione Metropolitana di Londra o agglomerazione metropolitana londinese, comprende una superficie totale di 8.382 chilometri quadrati (3.236 mq) con una popolazione di 13.709.000 abitanti e una densità abitativa di 1.510 abitanti per chilometro quadrato (3.900 mq). Londra moderna si trova sul Tamigi, la sua principale caratteristica geografica, un fiume navigabile che attraversa la città da sud-ovest a est. La valle del Tamigi è una pianura alluvionale circondata da dolci colline dolcemente ondulate tra cui Parliament Hill, Addington Hills e Primrose Hill. Un tempo il Tamigi era un fiume molto più ampio e poco profondo, con estese zone paludose; in alta marea, le sue sponde raggiungevano cinque volte la larghezza attuale.\n",
      "Rispondi brevemente a questa domanda:\n",
      "Qual è il punto di riferimento geografico principale di Londra?[/INST]Risposta breve: il Tamigi</s><s>[INST]Dato il seguente testo:\n",
      "CBS ha fornito flussi digitali del gioco tramite CBSSports. com, e le app CBS Sport su tablet, Windows 10, Xbox One e altri lettori multimediali digitali (come Chromecast e Roku). A causa dell' esclusività di Verizon Communications, lo streaming su smartphone è stato fornito solo ai clienti di Verizon Wireless tramite il servizio NFL Mobile.\n",
      "Rispondi brevemente a questa domanda:\n",
      "Che servizio hanno avuto bisogno dei clienti Verizon per trasmettere in streaming il gioco sui loro smartphone?[/INST]\n",
      " Risposta breve:\n",
      "\n",
      "RISPOSTA\n",
      " NFL Mobile.\n",
      "SOLUZIONE\n",
      "['NFL Mobile', 'NFL Mobile']\n",
      "\n"
     ]
    },
    {
     "name": "stderr",
     "output_type": "stream",
     "text": [
      "  0%|          | 7/7609 [00:30<8:43:20,  4.13s/it]"
     ]
    },
    {
     "name": "stdout",
     "output_type": "stream",
     "text": [
      "DOMANDA:\n",
      "<s>[INST]Dato il seguente testo:\n",
      "L' eccezionale romanzo della cavalleria cavalleresca Tirant lo Blanc (1490) di Martorell mostra un passaggio dai valori medievali a quelli rinascimentali, cosa che si può vedere anche nell' opera di Metge. Il primo libro prodotto con il tipo mobile nella penisola iberica è stato stampato in catalano.\n",
      "Rispondi brevemente a questa domanda:\n",
      "Chi ha scritto Tirant lo Blanc?[/INST]Risposta breve: Martorell</s><s>[INST]Dato il seguente testo:\n",
      "Nel 1970, il Presidente Nasser morì e fu succeduto da Anwar Sadat. Sadat ha trasferito la fedeltà dell' Egitto alla guerra fredda dall' Unione Sovietica agli Stati Uniti, espellendo i consiglieri sovietici nel 1972. Ha lanciato la politica di riforma economica dell' Infitah, bloccando nel contempo l' opposizione religiosa e laica. Nel 1973, l' Egitto, insieme alla Siria, lanciò la guerra di ottobre, un attentato a sorpresa per riconquistare parte del territorio del Sinai che Israele aveva catturato 6 anni prima. ha presentato Sadat con una vittoria che gli ha permesso di riconquistare il Sinai più tardi in cambio della pace con Israele.\n",
      "Rispondi brevemente a questa domanda:\n",
      "Quale lato della guerra fredda era Sadat?[/INST]Risposta breve: Stati Uniti,</s><s>[INST]Dato il seguente testo:\n",
      "Ad eccezione delle stagioni uno e due, i concorrenti in semifinale in poi si esibiscono davanti ad un pubblico di studio. Si esibiscono con una banda completa in finale. Dalla quarta alla novea stagione, la band Idol americana è stata guidata da Rickey Minor; dalla decima stagione in poi, Ray Chew. L' assistenza può essere fornita anche da allenatori vocali e arrangiatori di canzoni, come Michael Orland e Debra Byrd ai concorrenti dietro la scena. A partire dalla settima stagione, i concorrenti possono esibirsi con uno strumento musicale dai round di Hollywood in poi. Nelle prime nove stagioni, di solito le esibizioni sono state trasmesse in diretta il martedì sera, seguite dai risultati degli spettacoli di mercoledì negli Stati Uniti e in Canada, ma spostate al mercoledì e giovedì nella decima stagione.\n",
      "Rispondi brevemente a questa domanda:\n",
      "In quale stagione ha iniziato American Idol in onda giovedì sera?[/INST]Risposta breve: ten</s><s>[INST]Dato il seguente testo:\n",
      "Nel settembre 1967, Mueller approvò una sequenza di tipi di missione che dovevano essere completati con successo per raggiungere l' atterraggio lunare presidiato. Ogni passo doveva essere compiuto con successo prima di poter eseguire i successivi, e non si sapeva quanti tentativi di ogni missione sarebbero stati necessari; quindi le lettere sono state utilizzate invece dei numeri. Le missioni A erano senza equipaggio validazione Saturno V; B era validazione LM senza equipaggio usando il Saturno IB; C era validazione CSM Terra validazione orbita presidiata usando il Saturno IB; D era il primo volo CSM/LM con equipaggio (questo ha sostituito AS-258, utilizzando un unico lancio Saturno V); E sarebbe stato un volo CSM/LM con orbita terrestre più alta; F sarebbe stata la prima missione lunare, testando il LM in orbita lunare. L' elenco dei tipi comprendeva la prosecuzione dell' esplorazione lunare per includere gli atterraggi lunari H, I per le missioni di rilevamento orbitale lunare e J per gli atterraggi lunari a lunga permanenza.\n",
      "Rispondi brevemente a questa domanda:\n",
      "Che cosa doveva accadere ad ogni missione prima di continuare la missione successiva?[/INST]\n",
      " Risposta breve:\n",
      "\n",
      "RISPOSTA\n",
      " Ogni missione doveva essere completata con successo prima di poter eseguire i successivi.\n",
      "SOLUZIONE\n",
      "['compiuto con successo', 'compiuto con successo', 'compiuto con successo']\n",
      "\n"
     ]
    },
    {
     "name": "stderr",
     "output_type": "stream",
     "text": [
      "  0%|          | 8/7609 [00:35<9:20:09,  4.42s/it]"
     ]
    },
    {
     "name": "stdout",
     "output_type": "stream",
     "text": [
      "DOMANDA:\n",
      "<s>[INST]Dato il seguente testo:\n",
      "A partire dal 2015[aggiornamento], la Nigeria è la ventesima più grande economia mondiale, con un valore rispettivamente di oltre 500 miliardi di dollari e 1 trilione di dollari in termini di PIL nominale e di parità del potere d' acquisto. Ha superato il Sudafrica per diventare la più grande economia africana nel 2014. Inoltre, il rapporto debito/PIL è solo dell' 11 per cento, ossia l' 8 per cento al di sotto del rapporto 2012. La Nigeria è considerata un mercato emergente dalla Banca Mondiale; è stata identificata come una potenza regionale del continente africano, una potenza centrale negli affari internazionali ed è stata anche identificata come una potenza globale emergente. La Nigeria è membro del gruppo di paesi MINT, che sono ampiamente visti come le prossime economie \"simili ai BRIC\" del mondo. E' anche elencato tra le \"prossime undici\" economie destinate a diventare tra le più grandi del mondo. La Nigeria è membro fondatore del Commonwealth delle Nazioni, dell' Unione africana, dell' OPEC e delle Nazioni Unite tra le altre organizzazioni internazionali.\n",
      "Rispondi brevemente a questa domanda:\n",
      "Qual è la più grande economia africana?[/INST]Risposta breve: Nigeria</s><s>[INST]Dato il seguente testo:\n",
      "Lo scoppio della prima guerra mondiale nel 1914 fu precipitato dall' ascesa del nazionalismo nell' Europa sudorientale quando le grandi potenze si schierarono. Gli Alleati sconfissero le potenze centrali nel 1918. Durante la Conferenza di pace di Parigi, le Big Four hanno imposto i loro termini in una serie di trattati, in particolare il Trattato di Versailles.\n",
      "Rispondi brevemente a questa domanda:\n",
      "Quando è nato un vincitore nella prima guerra mondiale?[/INST]Risposta breve: 1918</s><s>[INST]Dato il seguente testo:\n",
      "Gli edifici pubblici variavano generalmente tra gli estremi delle caselle lisce con finestre a griglia e palazzi italiani del tardo Rinascimento, a seconda del budget. La Somerset House di Londra, progettata da Sir William Chambers nel 1776 per gli uffici governativi, era magnifica come qualsiasi casa di campagna, anche se mai abbastanza finita, man mano che i fondi si esaurivano. Caserma e altri edifici meno prestigiosi potrebbero essere funzionali come i mulini e le fabbriche che alla fine del periodo stavano crescendo sempre più grandi. Ma alla fine del periodo, molti progetti commerciali stavano diventando sufficientemente grandi e ben finanziati per diventare \"progetti architettonici intenzionali\", piuttosto che lasciarli alla classe minore di \"geometri\".\n",
      "Rispondi brevemente a questa domanda:\n",
      "Somerset House è stato progettato da chi?[/INST]Risposta breve: Sir William Chambers</s><s>[INST]Dato il seguente testo:\n",
      "Harvard ha la più grande dotazione universitaria al mondo. A settembre 2011[aggiornamento], aveva quasi recuperato la perdita subita durante la recessione del 2008. Nel 2011 valeva 32 miliardi di dollari, contro i 28 miliardi del settembre 2010 e i 26 miliardi del 2009. Ha subito una perdita di circa il 30% nel 2008-09. Nel dicembre 2008, Harvard ha annunciato che la sua dotazione aveva perso il 22% (circa 8 miliardi di dollari) da luglio a ottobre 2008, il che richiedeva tagli di bilancio. I rapporti successivi suggeriscono che la perdita è stata in realtà più del doppio di quella cifra, una riduzione di quasi il 50% della sua dotazione nei primi quattro mesi solo. Forbes nel marzo 2009 ha stimato la perdita in circa 12 miliardi di dollari. Uno dei risultati più visibili del tentativo di Harvard di riequilibrare il proprio bilancio è stato l' arresto della costruzione del Complesso Scientifico Allston di 1,2 miliardi di dollari che doveva essere completato entro il 2011, con conseguenti proteste da parte dei residenti locali. A partire dal 2012[aggiornamento], l' Università di Harvard aveva una riserva totale di aiuti finanziari per studenti pari a 159 milioni di dollari e una riserva Pell Grant di 4,093 milioni di dollari disponibile per l' erogazione.\n",
      "Rispondi brevemente a questa domanda:\n",
      "Quanto sono state grandi le perdite subite nella crisi finanziaria tra il 2008 e il 2009 dalla dotazione di Harvard?[/INST]\n",
      " Risposta breve:\n",
      "\n",
      "RISPOSTA\n",
      " Harvard ha perso circa 12 miliardi di dollari durante la crisi finanziaria tra il 2008 e il 2\n",
      "SOLUZIONE\n",
      "['12 miliardi di dollari']\n",
      "\n"
     ]
    },
    {
     "name": "stderr",
     "output_type": "stream",
     "text": [
      "  0%|          | 8/7609 [00:39<10:26:14,  4.94s/it]\n"
     ]
    },
    {
     "ename": "KeyboardInterrupt",
     "evalue": "",
     "output_type": "error",
     "traceback": [
      "\u001b[1;31m---------------------------------------------------------------------------\u001b[0m",
      "\u001b[1;31mKeyboardInterrupt\u001b[0m                         Traceback (most recent call last)",
      "Cell \u001b[1;32mIn[33], line 36\u001b[0m\n\u001b[0;32m     22\u001b[0m     model_inputs\u001b[38;5;241m.\u001b[39mappend(\n\u001b[0;32m     23\u001b[0m         generate_prompt(\n\u001b[0;32m     24\u001b[0m             get_shots(dataset, \u001b[38;5;241m3\u001b[39m) \u001b[38;5;241m+\u001b[39m [\n\u001b[1;32m   (...)\u001b[0m\n\u001b[0;32m     31\u001b[0m         ) \u001b[38;5;241m+\u001b[39m \u001b[38;5;124m\"\u001b[39m\u001b[38;5;124m \u001b[39m\u001b[38;5;124m\"\u001b[39m \u001b[38;5;241m+\u001b[39m build_answer(\u001b[38;5;124m\"\u001b[39m\u001b[38;5;124m\"\u001b[39m)\u001b[38;5;241m.\u001b[39mstrip()\n\u001b[0;32m     32\u001b[0m     )\n\u001b[0;32m     33\u001b[0m \u001b[38;5;66;03m# print(model_inputs[0])\u001b[39;00m\n\u001b[0;32m     34\u001b[0m \u001b[38;5;66;03m# break\u001b[39;00m\n\u001b[1;32m---> 36\u001b[0m model_outputs \u001b[38;5;241m=\u001b[39m \u001b[43mforward_model\u001b[49m\u001b[43m(\u001b[49m\n\u001b[0;32m     37\u001b[0m \u001b[43m    \u001b[49m\u001b[43mprompt\u001b[49m\u001b[38;5;241;43m=\u001b[39;49m\u001b[43mmodel_inputs\u001b[49m\u001b[43m[\u001b[49m\u001b[38;5;241;43m0\u001b[39;49m\u001b[43m]\u001b[49m\u001b[43m,\u001b[49m\n\u001b[0;32m     38\u001b[0m \u001b[43m    \u001b[49m\u001b[43mmodel\u001b[49m\u001b[38;5;241;43m=\u001b[39;49m\u001b[43mmodel\u001b[49m\u001b[43m,\u001b[49m\n\u001b[0;32m     39\u001b[0m \u001b[43m    \u001b[49m\u001b[43mtokenizer\u001b[49m\u001b[38;5;241;43m=\u001b[39;49m\u001b[43mtokenizer\u001b[49m\u001b[43m,\u001b[49m\n\u001b[0;32m     40\u001b[0m \u001b[43m\u001b[49m\u001b[43m)\u001b[49m\n\u001b[0;32m     41\u001b[0m model_outputs \u001b[38;5;241m=\u001b[39m model_outputs[\u001b[38;5;241m0\u001b[39m]\u001b[38;5;241m.\u001b[39msplit(\u001b[38;5;124m\"\u001b[39m\u001b[38;5;124mRisposta breve:\u001b[39m\u001b[38;5;124m\"\u001b[39m)[\u001b[38;5;241m-\u001b[39m\u001b[38;5;241m1\u001b[39m] \u001b[38;5;28;01mif\u001b[39;00m \u001b[38;5;124m\"\u001b[39m\u001b[38;5;124mRisposta breve:\u001b[39m\u001b[38;5;124m\"\u001b[39m \u001b[38;5;129;01min\u001b[39;00m model_outputs[\u001b[38;5;241m0\u001b[39m] \u001b[38;5;28;01melse\u001b[39;00m _\n\u001b[0;32m     42\u001b[0m \u001b[38;5;28mprint\u001b[39m(\u001b[38;5;124mf\u001b[39m\u001b[38;5;124m\"\u001b[39m\u001b[38;5;124mDOMANDA:\u001b[39m\u001b[38;5;130;01m\\n\u001b[39;00m\u001b[38;5;132;01m{\u001b[39;00mmodel_inputs[\u001b[38;5;241m0\u001b[39m]\u001b[38;5;132;01m}\u001b[39;00m\u001b[38;5;130;01m\\n\u001b[39;00m\u001b[38;5;130;01m\\n\u001b[39;00m\u001b[38;5;124mRISPOSTA\u001b[39m\u001b[38;5;130;01m\\n\u001b[39;00m\u001b[38;5;132;01m{\u001b[39;00mmodel_outputs\u001b[38;5;132;01m}\u001b[39;00m\u001b[38;5;130;01m\\n\u001b[39;00m\u001b[38;5;124mSOLUZIONE\u001b[39m\u001b[38;5;130;01m\\n\u001b[39;00m\u001b[38;5;132;01m{\u001b[39;00manswers[\u001b[38;5;241m0\u001b[39m][\u001b[38;5;124m'\u001b[39m\u001b[38;5;124mtext\u001b[39m\u001b[38;5;124m'\u001b[39m]\u001b[38;5;132;01m}\u001b[39;00m\u001b[38;5;130;01m\\n\u001b[39;00m\u001b[38;5;124m\"\u001b[39m)\u001b[38;5;66;03m#[520:]\u001b[39;00m\n",
      "Cell \u001b[1;32mIn[11], line 14\u001b[0m, in \u001b[0;36mforward_model\u001b[1;34m(prompt, model, tokenizer)\u001b[0m\n\u001b[0;32m     12\u001b[0m \u001b[38;5;28;01mwith\u001b[39;00m torch\u001b[38;5;241m.\u001b[39mno_grad():\n\u001b[0;32m     13\u001b[0m     input_ids \u001b[38;5;241m=\u001b[39m input_ids\u001b[38;5;241m.\u001b[39mto(DEVICE)\n\u001b[1;32m---> 14\u001b[0m     output_ids \u001b[38;5;241m=\u001b[39m \u001b[43mmodel\u001b[49m\u001b[38;5;241;43m.\u001b[39;49m\u001b[43mgenerate\u001b[49m\u001b[43m(\u001b[49m\n\u001b[0;32m     15\u001b[0m \u001b[43m        \u001b[49m\u001b[43minput_ids\u001b[49m\u001b[38;5;241;43m=\u001b[39;49m\u001b[43minput_ids\u001b[49m\u001b[43m,\u001b[49m\n\u001b[0;32m     16\u001b[0m \u001b[43m        \u001b[49m\u001b[43mmax_new_tokens\u001b[49m\u001b[38;5;241;43m=\u001b[39;49m\u001b[38;5;241;43m32\u001b[39;49m\u001b[43m,\u001b[49m\n\u001b[0;32m     17\u001b[0m \u001b[43m        \u001b[49m\u001b[43mpad_token_id\u001b[49m\u001b[38;5;241;43m=\u001b[39;49m\u001b[43mtokenizer\u001b[49m\u001b[38;5;241;43m.\u001b[39;49m\u001b[43meos_token_id\u001b[49m\u001b[43m,\u001b[49m\n\u001b[0;32m     18\u001b[0m \u001b[43m        \u001b[49m\u001b[43mprompt_lookup_num_tokens\u001b[49m\u001b[38;5;241;43m=\u001b[39;49m\u001b[38;5;241;43m10\u001b[39;49m\u001b[43m,\u001b[49m\n\u001b[0;32m     19\u001b[0m \u001b[43m        \u001b[49m\u001b[43mtemperature\u001b[49m\u001b[43m \u001b[49m\u001b[38;5;241;43m=\u001b[39;49m\u001b[43m \u001b[49m\u001b[38;5;241;43m1\u001b[39;49m\n\u001b[0;32m     20\u001b[0m \u001b[43m    \u001b[49m\u001b[43m)\u001b[49m\n\u001b[0;32m     21\u001b[0m     \u001b[38;5;66;03m# print(output_ids)\u001b[39;00m\n\u001b[0;32m     23\u001b[0m ret \u001b[38;5;241m=\u001b[39m []\n",
      "File \u001b[1;32mc:\\Users\\Samuele\\AppData\\Local\\Programs\\Python\\Python311\\Lib\\site-packages\\torch\\utils\\_contextlib.py:115\u001b[0m, in \u001b[0;36mcontext_decorator.<locals>.decorate_context\u001b[1;34m(*args, **kwargs)\u001b[0m\n\u001b[0;32m    112\u001b[0m \u001b[38;5;129m@functools\u001b[39m\u001b[38;5;241m.\u001b[39mwraps(func)\n\u001b[0;32m    113\u001b[0m \u001b[38;5;28;01mdef\u001b[39;00m \u001b[38;5;21mdecorate_context\u001b[39m(\u001b[38;5;241m*\u001b[39margs, \u001b[38;5;241m*\u001b[39m\u001b[38;5;241m*\u001b[39mkwargs):\n\u001b[0;32m    114\u001b[0m     \u001b[38;5;28;01mwith\u001b[39;00m ctx_factory():\n\u001b[1;32m--> 115\u001b[0m         \u001b[38;5;28;01mreturn\u001b[39;00m \u001b[43mfunc\u001b[49m\u001b[43m(\u001b[49m\u001b[38;5;241;43m*\u001b[39;49m\u001b[43margs\u001b[49m\u001b[43m,\u001b[49m\u001b[43m \u001b[49m\u001b[38;5;241;43m*\u001b[39;49m\u001b[38;5;241;43m*\u001b[39;49m\u001b[43mkwargs\u001b[49m\u001b[43m)\u001b[49m\n",
      "File \u001b[1;32mc:\\Users\\Samuele\\AppData\\Local\\Programs\\Python\\Python311\\Lib\\site-packages\\transformers\\generation\\utils.py:1455\u001b[0m, in \u001b[0;36mGenerationMixin.generate\u001b[1;34m(self, inputs, generation_config, logits_processor, stopping_criteria, prefix_allowed_tokens_fn, synced_gpus, assistant_model, streamer, negative_prompt_ids, negative_prompt_attention_mask, **kwargs)\u001b[0m\n\u001b[0;32m   1445\u001b[0m     candidate_generator \u001b[38;5;241m=\u001b[39m \u001b[38;5;28mself\u001b[39m\u001b[38;5;241m.\u001b[39m_get_candidate_generator(\n\u001b[0;32m   1446\u001b[0m         generation_config\u001b[38;5;241m=\u001b[39mgeneration_config,\n\u001b[0;32m   1447\u001b[0m         input_ids\u001b[38;5;241m=\u001b[39minput_ids,\n\u001b[1;32m   (...)\u001b[0m\n\u001b[0;32m   1451\u001b[0m         model_kwargs\u001b[38;5;241m=\u001b[39mmodel_kwargs,\n\u001b[0;32m   1452\u001b[0m     )\n\u001b[0;32m   1454\u001b[0m     \u001b[38;5;66;03m# 12. run assisted generate\u001b[39;00m\n\u001b[1;32m-> 1455\u001b[0m     \u001b[38;5;28;01mreturn\u001b[39;00m \u001b[38;5;28;43mself\u001b[39;49m\u001b[38;5;241;43m.\u001b[39;49m\u001b[43massisted_decoding\u001b[49m\u001b[43m(\u001b[49m\n\u001b[0;32m   1456\u001b[0m \u001b[43m        \u001b[49m\u001b[43minput_ids\u001b[49m\u001b[43m,\u001b[49m\n\u001b[0;32m   1457\u001b[0m \u001b[43m        \u001b[49m\u001b[43mcandidate_generator\u001b[49m\u001b[38;5;241;43m=\u001b[39;49m\u001b[43mcandidate_generator\u001b[49m\u001b[43m,\u001b[49m\n\u001b[0;32m   1458\u001b[0m \u001b[43m        \u001b[49m\u001b[43mdo_sample\u001b[49m\u001b[38;5;241;43m=\u001b[39;49m\u001b[43mgeneration_config\u001b[49m\u001b[38;5;241;43m.\u001b[39;49m\u001b[43mdo_sample\u001b[49m\u001b[43m,\u001b[49m\n\u001b[0;32m   1459\u001b[0m \u001b[43m        \u001b[49m\u001b[43mlogits_processor\u001b[49m\u001b[38;5;241;43m=\u001b[39;49m\u001b[43mprepared_logits_processor\u001b[49m\u001b[43m,\u001b[49m\n\u001b[0;32m   1460\u001b[0m \u001b[43m        \u001b[49m\u001b[43mlogits_warper\u001b[49m\u001b[38;5;241;43m=\u001b[39;49m\u001b[38;5;28;43mself\u001b[39;49m\u001b[38;5;241;43m.\u001b[39;49m\u001b[43m_get_logits_warper\u001b[49m\u001b[43m(\u001b[49m\u001b[43mgeneration_config\u001b[49m\u001b[43m)\u001b[49m\u001b[43m \u001b[49m\u001b[38;5;28;43;01mif\u001b[39;49;00m\u001b[43m \u001b[49m\u001b[43mgeneration_config\u001b[49m\u001b[38;5;241;43m.\u001b[39;49m\u001b[43mdo_sample\u001b[49m\u001b[43m \u001b[49m\u001b[38;5;28;43;01melse\u001b[39;49;00m\u001b[43m \u001b[49m\u001b[38;5;28;43;01mNone\u001b[39;49;00m\u001b[43m,\u001b[49m\n\u001b[0;32m   1461\u001b[0m \u001b[43m        \u001b[49m\u001b[43mstopping_criteria\u001b[49m\u001b[38;5;241;43m=\u001b[39;49m\u001b[43mprepared_stopping_criteria\u001b[49m\u001b[43m,\u001b[49m\n\u001b[0;32m   1462\u001b[0m \u001b[43m        \u001b[49m\u001b[43mpad_token_id\u001b[49m\u001b[38;5;241;43m=\u001b[39;49m\u001b[43mgeneration_config\u001b[49m\u001b[38;5;241;43m.\u001b[39;49m\u001b[43mpad_token_id\u001b[49m\u001b[43m,\u001b[49m\n\u001b[0;32m   1463\u001b[0m \u001b[43m        \u001b[49m\u001b[43meos_token_id\u001b[49m\u001b[38;5;241;43m=\u001b[39;49m\u001b[43mgeneration_config\u001b[49m\u001b[38;5;241;43m.\u001b[39;49m\u001b[43meos_token_id\u001b[49m\u001b[43m,\u001b[49m\n\u001b[0;32m   1464\u001b[0m \u001b[43m        \u001b[49m\u001b[43moutput_scores\u001b[49m\u001b[38;5;241;43m=\u001b[39;49m\u001b[43mgeneration_config\u001b[49m\u001b[38;5;241;43m.\u001b[39;49m\u001b[43moutput_scores\u001b[49m\u001b[43m,\u001b[49m\n\u001b[0;32m   1465\u001b[0m \u001b[43m        \u001b[49m\u001b[43mreturn_dict_in_generate\u001b[49m\u001b[38;5;241;43m=\u001b[39;49m\u001b[43mgeneration_config\u001b[49m\u001b[38;5;241;43m.\u001b[39;49m\u001b[43mreturn_dict_in_generate\u001b[49m\u001b[43m,\u001b[49m\n\u001b[0;32m   1466\u001b[0m \u001b[43m        \u001b[49m\u001b[43msynced_gpus\u001b[49m\u001b[38;5;241;43m=\u001b[39;49m\u001b[43msynced_gpus\u001b[49m\u001b[43m,\u001b[49m\n\u001b[0;32m   1467\u001b[0m \u001b[43m        \u001b[49m\u001b[43mstreamer\u001b[49m\u001b[38;5;241;43m=\u001b[39;49m\u001b[43mstreamer\u001b[49m\u001b[43m,\u001b[49m\n\u001b[0;32m   1468\u001b[0m \u001b[43m        \u001b[49m\u001b[38;5;241;43m*\u001b[39;49m\u001b[38;5;241;43m*\u001b[39;49m\u001b[43mmodel_kwargs\u001b[49m\u001b[43m,\u001b[49m\n\u001b[0;32m   1469\u001b[0m \u001b[43m    \u001b[49m\u001b[43m)\u001b[49m\n\u001b[0;32m   1470\u001b[0m \u001b[38;5;28;01mif\u001b[39;00m generation_mode \u001b[38;5;241m==\u001b[39m GenerationMode\u001b[38;5;241m.\u001b[39mGREEDY_SEARCH:\n\u001b[0;32m   1471\u001b[0m     \u001b[38;5;66;03m# 11. run greedy search\u001b[39;00m\n\u001b[0;32m   1472\u001b[0m     \u001b[38;5;28;01mreturn\u001b[39;00m \u001b[38;5;28mself\u001b[39m\u001b[38;5;241m.\u001b[39mgreedy_search(\n\u001b[0;32m   1473\u001b[0m         input_ids,\n\u001b[0;32m   1474\u001b[0m         logits_processor\u001b[38;5;241m=\u001b[39mprepared_logits_processor,\n\u001b[1;32m   (...)\u001b[0m\n\u001b[0;32m   1482\u001b[0m         \u001b[38;5;241m*\u001b[39m\u001b[38;5;241m*\u001b[39mmodel_kwargs,\n\u001b[0;32m   1483\u001b[0m     )\n",
      "File \u001b[1;32mc:\\Users\\Samuele\\AppData\\Local\\Programs\\Python\\Python311\\Lib\\site-packages\\transformers\\generation\\utils.py:4357\u001b[0m, in \u001b[0;36mGenerationMixin.assisted_decoding\u001b[1;34m(self, input_ids, assistant_model, candidate_generator, do_sample, logits_processor, logits_warper, stopping_criteria, pad_token_id, eos_token_id, output_attentions, output_hidden_states, output_scores, return_dict_in_generate, synced_gpus, streamer, **model_kwargs)\u001b[0m\n\u001b[0;32m   4354\u001b[0m model_inputs \u001b[38;5;241m=\u001b[39m \u001b[38;5;28mself\u001b[39m\u001b[38;5;241m.\u001b[39mprepare_inputs_for_generation(candidate_input_ids, \u001b[38;5;241m*\u001b[39m\u001b[38;5;241m*\u001b[39mcandidate_kwargs)\n\u001b[0;32m   4356\u001b[0m \u001b[38;5;66;03m# 2.2. Run a forward pass on the candidate sequence\u001b[39;00m\n\u001b[1;32m-> 4357\u001b[0m outputs \u001b[38;5;241m=\u001b[39m \u001b[38;5;28;43mself\u001b[39;49m\u001b[43m(\u001b[49m\n\u001b[0;32m   4358\u001b[0m \u001b[43m    \u001b[49m\u001b[38;5;241;43m*\u001b[39;49m\u001b[38;5;241;43m*\u001b[39;49m\u001b[43mmodel_inputs\u001b[49m\u001b[43m,\u001b[49m\n\u001b[0;32m   4359\u001b[0m \u001b[43m    \u001b[49m\u001b[43moutput_attentions\u001b[49m\u001b[38;5;241;43m=\u001b[39;49m\u001b[43moutput_attentions\u001b[49m\u001b[43m,\u001b[49m\n\u001b[0;32m   4360\u001b[0m \u001b[43m    \u001b[49m\u001b[43moutput_hidden_states\u001b[49m\u001b[38;5;241;43m=\u001b[39;49m\u001b[43moutput_hidden_states\u001b[49m\u001b[43m,\u001b[49m\n\u001b[0;32m   4361\u001b[0m \u001b[43m\u001b[49m\u001b[43m)\u001b[49m\n\u001b[0;32m   4363\u001b[0m \u001b[38;5;66;03m# 2.3. Process the new logits\u001b[39;00m\n\u001b[0;32m   4364\u001b[0m new_logits \u001b[38;5;241m=\u001b[39m outputs\u001b[38;5;241m.\u001b[39mlogits[:, \u001b[38;5;241m-\u001b[39mcandidate_length \u001b[38;5;241m-\u001b[39m \u001b[38;5;241m1\u001b[39m :]  \u001b[38;5;66;03m# excludes the input prompt if present\u001b[39;00m\n",
      "File \u001b[1;32mc:\\Users\\Samuele\\AppData\\Local\\Programs\\Python\\Python311\\Lib\\site-packages\\torch\\nn\\modules\\module.py:1518\u001b[0m, in \u001b[0;36mModule._wrapped_call_impl\u001b[1;34m(self, *args, **kwargs)\u001b[0m\n\u001b[0;32m   1516\u001b[0m     \u001b[38;5;28;01mreturn\u001b[39;00m \u001b[38;5;28mself\u001b[39m\u001b[38;5;241m.\u001b[39m_compiled_call_impl(\u001b[38;5;241m*\u001b[39margs, \u001b[38;5;241m*\u001b[39m\u001b[38;5;241m*\u001b[39mkwargs)  \u001b[38;5;66;03m# type: ignore[misc]\u001b[39;00m\n\u001b[0;32m   1517\u001b[0m \u001b[38;5;28;01melse\u001b[39;00m:\n\u001b[1;32m-> 1518\u001b[0m     \u001b[38;5;28;01mreturn\u001b[39;00m \u001b[38;5;28;43mself\u001b[39;49m\u001b[38;5;241;43m.\u001b[39;49m\u001b[43m_call_impl\u001b[49m\u001b[43m(\u001b[49m\u001b[38;5;241;43m*\u001b[39;49m\u001b[43margs\u001b[49m\u001b[43m,\u001b[49m\u001b[43m \u001b[49m\u001b[38;5;241;43m*\u001b[39;49m\u001b[38;5;241;43m*\u001b[39;49m\u001b[43mkwargs\u001b[49m\u001b[43m)\u001b[49m\n",
      "File \u001b[1;32mc:\\Users\\Samuele\\AppData\\Local\\Programs\\Python\\Python311\\Lib\\site-packages\\torch\\nn\\modules\\module.py:1527\u001b[0m, in \u001b[0;36mModule._call_impl\u001b[1;34m(self, *args, **kwargs)\u001b[0m\n\u001b[0;32m   1522\u001b[0m \u001b[38;5;66;03m# If we don't have any hooks, we want to skip the rest of the logic in\u001b[39;00m\n\u001b[0;32m   1523\u001b[0m \u001b[38;5;66;03m# this function, and just call forward.\u001b[39;00m\n\u001b[0;32m   1524\u001b[0m \u001b[38;5;28;01mif\u001b[39;00m \u001b[38;5;129;01mnot\u001b[39;00m (\u001b[38;5;28mself\u001b[39m\u001b[38;5;241m.\u001b[39m_backward_hooks \u001b[38;5;129;01mor\u001b[39;00m \u001b[38;5;28mself\u001b[39m\u001b[38;5;241m.\u001b[39m_backward_pre_hooks \u001b[38;5;129;01mor\u001b[39;00m \u001b[38;5;28mself\u001b[39m\u001b[38;5;241m.\u001b[39m_forward_hooks \u001b[38;5;129;01mor\u001b[39;00m \u001b[38;5;28mself\u001b[39m\u001b[38;5;241m.\u001b[39m_forward_pre_hooks\n\u001b[0;32m   1525\u001b[0m         \u001b[38;5;129;01mor\u001b[39;00m _global_backward_pre_hooks \u001b[38;5;129;01mor\u001b[39;00m _global_backward_hooks\n\u001b[0;32m   1526\u001b[0m         \u001b[38;5;129;01mor\u001b[39;00m _global_forward_hooks \u001b[38;5;129;01mor\u001b[39;00m _global_forward_pre_hooks):\n\u001b[1;32m-> 1527\u001b[0m     \u001b[38;5;28;01mreturn\u001b[39;00m \u001b[43mforward_call\u001b[49m\u001b[43m(\u001b[49m\u001b[38;5;241;43m*\u001b[39;49m\u001b[43margs\u001b[49m\u001b[43m,\u001b[49m\u001b[43m \u001b[49m\u001b[38;5;241;43m*\u001b[39;49m\u001b[38;5;241;43m*\u001b[39;49m\u001b[43mkwargs\u001b[49m\u001b[43m)\u001b[49m\n\u001b[0;32m   1529\u001b[0m \u001b[38;5;28;01mtry\u001b[39;00m:\n\u001b[0;32m   1530\u001b[0m     result \u001b[38;5;241m=\u001b[39m \u001b[38;5;28;01mNone\u001b[39;00m\n",
      "File \u001b[1;32mc:\\Users\\Samuele\\AppData\\Local\\Programs\\Python\\Python311\\Lib\\site-packages\\accelerate\\hooks.py:165\u001b[0m, in \u001b[0;36madd_hook_to_module.<locals>.new_forward\u001b[1;34m(*args, **kwargs)\u001b[0m\n\u001b[0;32m    163\u001b[0m         output \u001b[38;5;241m=\u001b[39m old_forward(\u001b[38;5;241m*\u001b[39margs, \u001b[38;5;241m*\u001b[39m\u001b[38;5;241m*\u001b[39mkwargs)\n\u001b[0;32m    164\u001b[0m \u001b[38;5;28;01melse\u001b[39;00m:\n\u001b[1;32m--> 165\u001b[0m     output \u001b[38;5;241m=\u001b[39m \u001b[43mold_forward\u001b[49m\u001b[43m(\u001b[49m\u001b[38;5;241;43m*\u001b[39;49m\u001b[43margs\u001b[49m\u001b[43m,\u001b[49m\u001b[43m \u001b[49m\u001b[38;5;241;43m*\u001b[39;49m\u001b[38;5;241;43m*\u001b[39;49m\u001b[43mkwargs\u001b[49m\u001b[43m)\u001b[49m\n\u001b[0;32m    166\u001b[0m \u001b[38;5;28;01mreturn\u001b[39;00m module\u001b[38;5;241m.\u001b[39m_hf_hook\u001b[38;5;241m.\u001b[39mpost_forward(module, output)\n",
      "File \u001b[1;32mc:\\Users\\Samuele\\AppData\\Local\\Programs\\Python\\Python311\\Lib\\site-packages\\transformers\\models\\llama\\modeling_llama.py:1183\u001b[0m, in \u001b[0;36mLlamaForCausalLM.forward\u001b[1;34m(self, input_ids, attention_mask, position_ids, past_key_values, inputs_embeds, labels, use_cache, output_attentions, output_hidden_states, return_dict)\u001b[0m\n\u001b[0;32m   1180\u001b[0m return_dict \u001b[38;5;241m=\u001b[39m return_dict \u001b[38;5;28;01mif\u001b[39;00m return_dict \u001b[38;5;129;01mis\u001b[39;00m \u001b[38;5;129;01mnot\u001b[39;00m \u001b[38;5;28;01mNone\u001b[39;00m \u001b[38;5;28;01melse\u001b[39;00m \u001b[38;5;28mself\u001b[39m\u001b[38;5;241m.\u001b[39mconfig\u001b[38;5;241m.\u001b[39muse_return_dict\n\u001b[0;32m   1182\u001b[0m \u001b[38;5;66;03m# decoder outputs consists of (dec_features, layer_state, dec_hidden, dec_attn)\u001b[39;00m\n\u001b[1;32m-> 1183\u001b[0m outputs \u001b[38;5;241m=\u001b[39m \u001b[38;5;28;43mself\u001b[39;49m\u001b[38;5;241;43m.\u001b[39;49m\u001b[43mmodel\u001b[49m\u001b[43m(\u001b[49m\n\u001b[0;32m   1184\u001b[0m \u001b[43m    \u001b[49m\u001b[43minput_ids\u001b[49m\u001b[38;5;241;43m=\u001b[39;49m\u001b[43minput_ids\u001b[49m\u001b[43m,\u001b[49m\n\u001b[0;32m   1185\u001b[0m \u001b[43m    \u001b[49m\u001b[43mattention_mask\u001b[49m\u001b[38;5;241;43m=\u001b[39;49m\u001b[43mattention_mask\u001b[49m\u001b[43m,\u001b[49m\n\u001b[0;32m   1186\u001b[0m \u001b[43m    \u001b[49m\u001b[43mposition_ids\u001b[49m\u001b[38;5;241;43m=\u001b[39;49m\u001b[43mposition_ids\u001b[49m\u001b[43m,\u001b[49m\n\u001b[0;32m   1187\u001b[0m \u001b[43m    \u001b[49m\u001b[43mpast_key_values\u001b[49m\u001b[38;5;241;43m=\u001b[39;49m\u001b[43mpast_key_values\u001b[49m\u001b[43m,\u001b[49m\n\u001b[0;32m   1188\u001b[0m \u001b[43m    \u001b[49m\u001b[43minputs_embeds\u001b[49m\u001b[38;5;241;43m=\u001b[39;49m\u001b[43minputs_embeds\u001b[49m\u001b[43m,\u001b[49m\n\u001b[0;32m   1189\u001b[0m \u001b[43m    \u001b[49m\u001b[43muse_cache\u001b[49m\u001b[38;5;241;43m=\u001b[39;49m\u001b[43muse_cache\u001b[49m\u001b[43m,\u001b[49m\n\u001b[0;32m   1190\u001b[0m \u001b[43m    \u001b[49m\u001b[43moutput_attentions\u001b[49m\u001b[38;5;241;43m=\u001b[39;49m\u001b[43moutput_attentions\u001b[49m\u001b[43m,\u001b[49m\n\u001b[0;32m   1191\u001b[0m \u001b[43m    \u001b[49m\u001b[43moutput_hidden_states\u001b[49m\u001b[38;5;241;43m=\u001b[39;49m\u001b[43moutput_hidden_states\u001b[49m\u001b[43m,\u001b[49m\n\u001b[0;32m   1192\u001b[0m \u001b[43m    \u001b[49m\u001b[43mreturn_dict\u001b[49m\u001b[38;5;241;43m=\u001b[39;49m\u001b[43mreturn_dict\u001b[49m\u001b[43m,\u001b[49m\n\u001b[0;32m   1193\u001b[0m \u001b[43m\u001b[49m\u001b[43m)\u001b[49m\n\u001b[0;32m   1195\u001b[0m hidden_states \u001b[38;5;241m=\u001b[39m outputs[\u001b[38;5;241m0\u001b[39m]\n\u001b[0;32m   1196\u001b[0m \u001b[38;5;28;01mif\u001b[39;00m \u001b[38;5;28mself\u001b[39m\u001b[38;5;241m.\u001b[39mconfig\u001b[38;5;241m.\u001b[39mpretraining_tp \u001b[38;5;241m>\u001b[39m \u001b[38;5;241m1\u001b[39m:\n",
      "File \u001b[1;32mc:\\Users\\Samuele\\AppData\\Local\\Programs\\Python\\Python311\\Lib\\site-packages\\torch\\nn\\modules\\module.py:1518\u001b[0m, in \u001b[0;36mModule._wrapped_call_impl\u001b[1;34m(self, *args, **kwargs)\u001b[0m\n\u001b[0;32m   1516\u001b[0m     \u001b[38;5;28;01mreturn\u001b[39;00m \u001b[38;5;28mself\u001b[39m\u001b[38;5;241m.\u001b[39m_compiled_call_impl(\u001b[38;5;241m*\u001b[39margs, \u001b[38;5;241m*\u001b[39m\u001b[38;5;241m*\u001b[39mkwargs)  \u001b[38;5;66;03m# type: ignore[misc]\u001b[39;00m\n\u001b[0;32m   1517\u001b[0m \u001b[38;5;28;01melse\u001b[39;00m:\n\u001b[1;32m-> 1518\u001b[0m     \u001b[38;5;28;01mreturn\u001b[39;00m \u001b[38;5;28;43mself\u001b[39;49m\u001b[38;5;241;43m.\u001b[39;49m\u001b[43m_call_impl\u001b[49m\u001b[43m(\u001b[49m\u001b[38;5;241;43m*\u001b[39;49m\u001b[43margs\u001b[49m\u001b[43m,\u001b[49m\u001b[43m \u001b[49m\u001b[38;5;241;43m*\u001b[39;49m\u001b[38;5;241;43m*\u001b[39;49m\u001b[43mkwargs\u001b[49m\u001b[43m)\u001b[49m\n",
      "File \u001b[1;32mc:\\Users\\Samuele\\AppData\\Local\\Programs\\Python\\Python311\\Lib\\site-packages\\torch\\nn\\modules\\module.py:1527\u001b[0m, in \u001b[0;36mModule._call_impl\u001b[1;34m(self, *args, **kwargs)\u001b[0m\n\u001b[0;32m   1522\u001b[0m \u001b[38;5;66;03m# If we don't have any hooks, we want to skip the rest of the logic in\u001b[39;00m\n\u001b[0;32m   1523\u001b[0m \u001b[38;5;66;03m# this function, and just call forward.\u001b[39;00m\n\u001b[0;32m   1524\u001b[0m \u001b[38;5;28;01mif\u001b[39;00m \u001b[38;5;129;01mnot\u001b[39;00m (\u001b[38;5;28mself\u001b[39m\u001b[38;5;241m.\u001b[39m_backward_hooks \u001b[38;5;129;01mor\u001b[39;00m \u001b[38;5;28mself\u001b[39m\u001b[38;5;241m.\u001b[39m_backward_pre_hooks \u001b[38;5;129;01mor\u001b[39;00m \u001b[38;5;28mself\u001b[39m\u001b[38;5;241m.\u001b[39m_forward_hooks \u001b[38;5;129;01mor\u001b[39;00m \u001b[38;5;28mself\u001b[39m\u001b[38;5;241m.\u001b[39m_forward_pre_hooks\n\u001b[0;32m   1525\u001b[0m         \u001b[38;5;129;01mor\u001b[39;00m _global_backward_pre_hooks \u001b[38;5;129;01mor\u001b[39;00m _global_backward_hooks\n\u001b[0;32m   1526\u001b[0m         \u001b[38;5;129;01mor\u001b[39;00m _global_forward_hooks \u001b[38;5;129;01mor\u001b[39;00m _global_forward_pre_hooks):\n\u001b[1;32m-> 1527\u001b[0m     \u001b[38;5;28;01mreturn\u001b[39;00m \u001b[43mforward_call\u001b[49m\u001b[43m(\u001b[49m\u001b[38;5;241;43m*\u001b[39;49m\u001b[43margs\u001b[49m\u001b[43m,\u001b[49m\u001b[43m \u001b[49m\u001b[38;5;241;43m*\u001b[39;49m\u001b[38;5;241;43m*\u001b[39;49m\u001b[43mkwargs\u001b[49m\u001b[43m)\u001b[49m\n\u001b[0;32m   1529\u001b[0m \u001b[38;5;28;01mtry\u001b[39;00m:\n\u001b[0;32m   1530\u001b[0m     result \u001b[38;5;241m=\u001b[39m \u001b[38;5;28;01mNone\u001b[39;00m\n",
      "File \u001b[1;32mc:\\Users\\Samuele\\AppData\\Local\\Programs\\Python\\Python311\\Lib\\site-packages\\accelerate\\hooks.py:165\u001b[0m, in \u001b[0;36madd_hook_to_module.<locals>.new_forward\u001b[1;34m(*args, **kwargs)\u001b[0m\n\u001b[0;32m    163\u001b[0m         output \u001b[38;5;241m=\u001b[39m old_forward(\u001b[38;5;241m*\u001b[39margs, \u001b[38;5;241m*\u001b[39m\u001b[38;5;241m*\u001b[39mkwargs)\n\u001b[0;32m    164\u001b[0m \u001b[38;5;28;01melse\u001b[39;00m:\n\u001b[1;32m--> 165\u001b[0m     output \u001b[38;5;241m=\u001b[39m \u001b[43mold_forward\u001b[49m\u001b[43m(\u001b[49m\u001b[38;5;241;43m*\u001b[39;49m\u001b[43margs\u001b[49m\u001b[43m,\u001b[49m\u001b[43m \u001b[49m\u001b[38;5;241;43m*\u001b[39;49m\u001b[38;5;241;43m*\u001b[39;49m\u001b[43mkwargs\u001b[49m\u001b[43m)\u001b[49m\n\u001b[0;32m    166\u001b[0m \u001b[38;5;28;01mreturn\u001b[39;00m module\u001b[38;5;241m.\u001b[39m_hf_hook\u001b[38;5;241m.\u001b[39mpost_forward(module, output)\n",
      "File \u001b[1;32mc:\\Users\\Samuele\\AppData\\Local\\Programs\\Python\\Python311\\Lib\\site-packages\\transformers\\models\\llama\\modeling_llama.py:1070\u001b[0m, in \u001b[0;36mLlamaModel.forward\u001b[1;34m(self, input_ids, attention_mask, position_ids, past_key_values, inputs_embeds, use_cache, output_attentions, output_hidden_states, return_dict)\u001b[0m\n\u001b[0;32m   1060\u001b[0m     layer_outputs \u001b[38;5;241m=\u001b[39m \u001b[38;5;28mself\u001b[39m\u001b[38;5;241m.\u001b[39m_gradient_checkpointing_func(\n\u001b[0;32m   1061\u001b[0m         decoder_layer\u001b[38;5;241m.\u001b[39m\u001b[38;5;21m__call__\u001b[39m,\n\u001b[0;32m   1062\u001b[0m         hidden_states,\n\u001b[1;32m   (...)\u001b[0m\n\u001b[0;32m   1067\u001b[0m         use_cache,\n\u001b[0;32m   1068\u001b[0m     )\n\u001b[0;32m   1069\u001b[0m \u001b[38;5;28;01melse\u001b[39;00m:\n\u001b[1;32m-> 1070\u001b[0m     layer_outputs \u001b[38;5;241m=\u001b[39m \u001b[43mdecoder_layer\u001b[49m\u001b[43m(\u001b[49m\n\u001b[0;32m   1071\u001b[0m \u001b[43m        \u001b[49m\u001b[43mhidden_states\u001b[49m\u001b[43m,\u001b[49m\n\u001b[0;32m   1072\u001b[0m \u001b[43m        \u001b[49m\u001b[43mattention_mask\u001b[49m\u001b[38;5;241;43m=\u001b[39;49m\u001b[43mattention_mask\u001b[49m\u001b[43m,\u001b[49m\n\u001b[0;32m   1073\u001b[0m \u001b[43m        \u001b[49m\u001b[43mposition_ids\u001b[49m\u001b[38;5;241;43m=\u001b[39;49m\u001b[43mposition_ids\u001b[49m\u001b[43m,\u001b[49m\n\u001b[0;32m   1074\u001b[0m \u001b[43m        \u001b[49m\u001b[43mpast_key_value\u001b[49m\u001b[38;5;241;43m=\u001b[39;49m\u001b[43mpast_key_values\u001b[49m\u001b[43m,\u001b[49m\n\u001b[0;32m   1075\u001b[0m \u001b[43m        \u001b[49m\u001b[43moutput_attentions\u001b[49m\u001b[38;5;241;43m=\u001b[39;49m\u001b[43moutput_attentions\u001b[49m\u001b[43m,\u001b[49m\n\u001b[0;32m   1076\u001b[0m \u001b[43m        \u001b[49m\u001b[43muse_cache\u001b[49m\u001b[38;5;241;43m=\u001b[39;49m\u001b[43muse_cache\u001b[49m\u001b[43m,\u001b[49m\n\u001b[0;32m   1077\u001b[0m \u001b[43m    \u001b[49m\u001b[43m)\u001b[49m\n\u001b[0;32m   1079\u001b[0m hidden_states \u001b[38;5;241m=\u001b[39m layer_outputs[\u001b[38;5;241m0\u001b[39m]\n\u001b[0;32m   1081\u001b[0m \u001b[38;5;28;01mif\u001b[39;00m use_cache:\n",
      "File \u001b[1;32mc:\\Users\\Samuele\\AppData\\Local\\Programs\\Python\\Python311\\Lib\\site-packages\\torch\\nn\\modules\\module.py:1518\u001b[0m, in \u001b[0;36mModule._wrapped_call_impl\u001b[1;34m(self, *args, **kwargs)\u001b[0m\n\u001b[0;32m   1516\u001b[0m     \u001b[38;5;28;01mreturn\u001b[39;00m \u001b[38;5;28mself\u001b[39m\u001b[38;5;241m.\u001b[39m_compiled_call_impl(\u001b[38;5;241m*\u001b[39margs, \u001b[38;5;241m*\u001b[39m\u001b[38;5;241m*\u001b[39mkwargs)  \u001b[38;5;66;03m# type: ignore[misc]\u001b[39;00m\n\u001b[0;32m   1517\u001b[0m \u001b[38;5;28;01melse\u001b[39;00m:\n\u001b[1;32m-> 1518\u001b[0m     \u001b[38;5;28;01mreturn\u001b[39;00m \u001b[38;5;28;43mself\u001b[39;49m\u001b[38;5;241;43m.\u001b[39;49m\u001b[43m_call_impl\u001b[49m\u001b[43m(\u001b[49m\u001b[38;5;241;43m*\u001b[39;49m\u001b[43margs\u001b[49m\u001b[43m,\u001b[49m\u001b[43m \u001b[49m\u001b[38;5;241;43m*\u001b[39;49m\u001b[38;5;241;43m*\u001b[39;49m\u001b[43mkwargs\u001b[49m\u001b[43m)\u001b[49m\n",
      "File \u001b[1;32mc:\\Users\\Samuele\\AppData\\Local\\Programs\\Python\\Python311\\Lib\\site-packages\\torch\\nn\\modules\\module.py:1527\u001b[0m, in \u001b[0;36mModule._call_impl\u001b[1;34m(self, *args, **kwargs)\u001b[0m\n\u001b[0;32m   1522\u001b[0m \u001b[38;5;66;03m# If we don't have any hooks, we want to skip the rest of the logic in\u001b[39;00m\n\u001b[0;32m   1523\u001b[0m \u001b[38;5;66;03m# this function, and just call forward.\u001b[39;00m\n\u001b[0;32m   1524\u001b[0m \u001b[38;5;28;01mif\u001b[39;00m \u001b[38;5;129;01mnot\u001b[39;00m (\u001b[38;5;28mself\u001b[39m\u001b[38;5;241m.\u001b[39m_backward_hooks \u001b[38;5;129;01mor\u001b[39;00m \u001b[38;5;28mself\u001b[39m\u001b[38;5;241m.\u001b[39m_backward_pre_hooks \u001b[38;5;129;01mor\u001b[39;00m \u001b[38;5;28mself\u001b[39m\u001b[38;5;241m.\u001b[39m_forward_hooks \u001b[38;5;129;01mor\u001b[39;00m \u001b[38;5;28mself\u001b[39m\u001b[38;5;241m.\u001b[39m_forward_pre_hooks\n\u001b[0;32m   1525\u001b[0m         \u001b[38;5;129;01mor\u001b[39;00m _global_backward_pre_hooks \u001b[38;5;129;01mor\u001b[39;00m _global_backward_hooks\n\u001b[0;32m   1526\u001b[0m         \u001b[38;5;129;01mor\u001b[39;00m _global_forward_hooks \u001b[38;5;129;01mor\u001b[39;00m _global_forward_pre_hooks):\n\u001b[1;32m-> 1527\u001b[0m     \u001b[38;5;28;01mreturn\u001b[39;00m \u001b[43mforward_call\u001b[49m\u001b[43m(\u001b[49m\u001b[38;5;241;43m*\u001b[39;49m\u001b[43margs\u001b[49m\u001b[43m,\u001b[49m\u001b[43m \u001b[49m\u001b[38;5;241;43m*\u001b[39;49m\u001b[38;5;241;43m*\u001b[39;49m\u001b[43mkwargs\u001b[49m\u001b[43m)\u001b[49m\n\u001b[0;32m   1529\u001b[0m \u001b[38;5;28;01mtry\u001b[39;00m:\n\u001b[0;32m   1530\u001b[0m     result \u001b[38;5;241m=\u001b[39m \u001b[38;5;28;01mNone\u001b[39;00m\n",
      "File \u001b[1;32mc:\\Users\\Samuele\\AppData\\Local\\Programs\\Python\\Python311\\Lib\\site-packages\\accelerate\\hooks.py:165\u001b[0m, in \u001b[0;36madd_hook_to_module.<locals>.new_forward\u001b[1;34m(*args, **kwargs)\u001b[0m\n\u001b[0;32m    163\u001b[0m         output \u001b[38;5;241m=\u001b[39m old_forward(\u001b[38;5;241m*\u001b[39margs, \u001b[38;5;241m*\u001b[39m\u001b[38;5;241m*\u001b[39mkwargs)\n\u001b[0;32m    164\u001b[0m \u001b[38;5;28;01melse\u001b[39;00m:\n\u001b[1;32m--> 165\u001b[0m     output \u001b[38;5;241m=\u001b[39m \u001b[43mold_forward\u001b[49m\u001b[43m(\u001b[49m\u001b[38;5;241;43m*\u001b[39;49m\u001b[43margs\u001b[49m\u001b[43m,\u001b[49m\u001b[43m \u001b[49m\u001b[38;5;241;43m*\u001b[39;49m\u001b[38;5;241;43m*\u001b[39;49m\u001b[43mkwargs\u001b[49m\u001b[43m)\u001b[49m\n\u001b[0;32m    166\u001b[0m \u001b[38;5;28;01mreturn\u001b[39;00m module\u001b[38;5;241m.\u001b[39m_hf_hook\u001b[38;5;241m.\u001b[39mpost_forward(module, output)\n",
      "File \u001b[1;32mc:\\Users\\Samuele\\AppData\\Local\\Programs\\Python\\Python311\\Lib\\site-packages\\transformers\\models\\llama\\modeling_llama.py:798\u001b[0m, in \u001b[0;36mLlamaDecoderLayer.forward\u001b[1;34m(self, hidden_states, attention_mask, position_ids, past_key_value, output_attentions, use_cache, **kwargs)\u001b[0m\n\u001b[0;32m    795\u001b[0m hidden_states \u001b[38;5;241m=\u001b[39m \u001b[38;5;28mself\u001b[39m\u001b[38;5;241m.\u001b[39minput_layernorm(hidden_states)\n\u001b[0;32m    797\u001b[0m \u001b[38;5;66;03m# Self Attention\u001b[39;00m\n\u001b[1;32m--> 798\u001b[0m hidden_states, self_attn_weights, present_key_value \u001b[38;5;241m=\u001b[39m \u001b[38;5;28;43mself\u001b[39;49m\u001b[38;5;241;43m.\u001b[39;49m\u001b[43mself_attn\u001b[49m\u001b[43m(\u001b[49m\n\u001b[0;32m    799\u001b[0m \u001b[43m    \u001b[49m\u001b[43mhidden_states\u001b[49m\u001b[38;5;241;43m=\u001b[39;49m\u001b[43mhidden_states\u001b[49m\u001b[43m,\u001b[49m\n\u001b[0;32m    800\u001b[0m \u001b[43m    \u001b[49m\u001b[43mattention_mask\u001b[49m\u001b[38;5;241;43m=\u001b[39;49m\u001b[43mattention_mask\u001b[49m\u001b[43m,\u001b[49m\n\u001b[0;32m    801\u001b[0m \u001b[43m    \u001b[49m\u001b[43mposition_ids\u001b[49m\u001b[38;5;241;43m=\u001b[39;49m\u001b[43mposition_ids\u001b[49m\u001b[43m,\u001b[49m\n\u001b[0;32m    802\u001b[0m \u001b[43m    \u001b[49m\u001b[43mpast_key_value\u001b[49m\u001b[38;5;241;43m=\u001b[39;49m\u001b[43mpast_key_value\u001b[49m\u001b[43m,\u001b[49m\n\u001b[0;32m    803\u001b[0m \u001b[43m    \u001b[49m\u001b[43moutput_attentions\u001b[49m\u001b[38;5;241;43m=\u001b[39;49m\u001b[43moutput_attentions\u001b[49m\u001b[43m,\u001b[49m\n\u001b[0;32m    804\u001b[0m \u001b[43m    \u001b[49m\u001b[43muse_cache\u001b[49m\u001b[38;5;241;43m=\u001b[39;49m\u001b[43muse_cache\u001b[49m\u001b[43m,\u001b[49m\n\u001b[0;32m    805\u001b[0m \u001b[43m    \u001b[49m\u001b[38;5;241;43m*\u001b[39;49m\u001b[38;5;241;43m*\u001b[39;49m\u001b[43mkwargs\u001b[49m\u001b[43m,\u001b[49m\n\u001b[0;32m    806\u001b[0m \u001b[43m\u001b[49m\u001b[43m)\u001b[49m\n\u001b[0;32m    807\u001b[0m hidden_states \u001b[38;5;241m=\u001b[39m residual \u001b[38;5;241m+\u001b[39m hidden_states\n\u001b[0;32m    809\u001b[0m \u001b[38;5;66;03m# Fully Connected\u001b[39;00m\n",
      "File \u001b[1;32mc:\\Users\\Samuele\\AppData\\Local\\Programs\\Python\\Python311\\Lib\\site-packages\\torch\\nn\\modules\\module.py:1518\u001b[0m, in \u001b[0;36mModule._wrapped_call_impl\u001b[1;34m(self, *args, **kwargs)\u001b[0m\n\u001b[0;32m   1516\u001b[0m     \u001b[38;5;28;01mreturn\u001b[39;00m \u001b[38;5;28mself\u001b[39m\u001b[38;5;241m.\u001b[39m_compiled_call_impl(\u001b[38;5;241m*\u001b[39margs, \u001b[38;5;241m*\u001b[39m\u001b[38;5;241m*\u001b[39mkwargs)  \u001b[38;5;66;03m# type: ignore[misc]\u001b[39;00m\n\u001b[0;32m   1517\u001b[0m \u001b[38;5;28;01melse\u001b[39;00m:\n\u001b[1;32m-> 1518\u001b[0m     \u001b[38;5;28;01mreturn\u001b[39;00m \u001b[38;5;28;43mself\u001b[39;49m\u001b[38;5;241;43m.\u001b[39;49m\u001b[43m_call_impl\u001b[49m\u001b[43m(\u001b[49m\u001b[38;5;241;43m*\u001b[39;49m\u001b[43margs\u001b[49m\u001b[43m,\u001b[49m\u001b[43m \u001b[49m\u001b[38;5;241;43m*\u001b[39;49m\u001b[38;5;241;43m*\u001b[39;49m\u001b[43mkwargs\u001b[49m\u001b[43m)\u001b[49m\n",
      "File \u001b[1;32mc:\\Users\\Samuele\\AppData\\Local\\Programs\\Python\\Python311\\Lib\\site-packages\\torch\\nn\\modules\\module.py:1527\u001b[0m, in \u001b[0;36mModule._call_impl\u001b[1;34m(self, *args, **kwargs)\u001b[0m\n\u001b[0;32m   1522\u001b[0m \u001b[38;5;66;03m# If we don't have any hooks, we want to skip the rest of the logic in\u001b[39;00m\n\u001b[0;32m   1523\u001b[0m \u001b[38;5;66;03m# this function, and just call forward.\u001b[39;00m\n\u001b[0;32m   1524\u001b[0m \u001b[38;5;28;01mif\u001b[39;00m \u001b[38;5;129;01mnot\u001b[39;00m (\u001b[38;5;28mself\u001b[39m\u001b[38;5;241m.\u001b[39m_backward_hooks \u001b[38;5;129;01mor\u001b[39;00m \u001b[38;5;28mself\u001b[39m\u001b[38;5;241m.\u001b[39m_backward_pre_hooks \u001b[38;5;129;01mor\u001b[39;00m \u001b[38;5;28mself\u001b[39m\u001b[38;5;241m.\u001b[39m_forward_hooks \u001b[38;5;129;01mor\u001b[39;00m \u001b[38;5;28mself\u001b[39m\u001b[38;5;241m.\u001b[39m_forward_pre_hooks\n\u001b[0;32m   1525\u001b[0m         \u001b[38;5;129;01mor\u001b[39;00m _global_backward_pre_hooks \u001b[38;5;129;01mor\u001b[39;00m _global_backward_hooks\n\u001b[0;32m   1526\u001b[0m         \u001b[38;5;129;01mor\u001b[39;00m _global_forward_hooks \u001b[38;5;129;01mor\u001b[39;00m _global_forward_pre_hooks):\n\u001b[1;32m-> 1527\u001b[0m     \u001b[38;5;28;01mreturn\u001b[39;00m \u001b[43mforward_call\u001b[49m\u001b[43m(\u001b[49m\u001b[38;5;241;43m*\u001b[39;49m\u001b[43margs\u001b[49m\u001b[43m,\u001b[49m\u001b[43m \u001b[49m\u001b[38;5;241;43m*\u001b[39;49m\u001b[38;5;241;43m*\u001b[39;49m\u001b[43mkwargs\u001b[49m\u001b[43m)\u001b[49m\n\u001b[0;32m   1529\u001b[0m \u001b[38;5;28;01mtry\u001b[39;00m:\n\u001b[0;32m   1530\u001b[0m     result \u001b[38;5;241m=\u001b[39m \u001b[38;5;28;01mNone\u001b[39;00m\n",
      "File \u001b[1;32mc:\\Users\\Samuele\\AppData\\Local\\Programs\\Python\\Python311\\Lib\\site-packages\\accelerate\\hooks.py:165\u001b[0m, in \u001b[0;36madd_hook_to_module.<locals>.new_forward\u001b[1;34m(*args, **kwargs)\u001b[0m\n\u001b[0;32m    163\u001b[0m         output \u001b[38;5;241m=\u001b[39m old_forward(\u001b[38;5;241m*\u001b[39margs, \u001b[38;5;241m*\u001b[39m\u001b[38;5;241m*\u001b[39mkwargs)\n\u001b[0;32m    164\u001b[0m \u001b[38;5;28;01melse\u001b[39;00m:\n\u001b[1;32m--> 165\u001b[0m     output \u001b[38;5;241m=\u001b[39m \u001b[43mold_forward\u001b[49m\u001b[43m(\u001b[49m\u001b[38;5;241;43m*\u001b[39;49m\u001b[43margs\u001b[49m\u001b[43m,\u001b[49m\u001b[43m \u001b[49m\u001b[38;5;241;43m*\u001b[39;49m\u001b[38;5;241;43m*\u001b[39;49m\u001b[43mkwargs\u001b[49m\u001b[43m)\u001b[49m\n\u001b[0;32m    166\u001b[0m \u001b[38;5;28;01mreturn\u001b[39;00m module\u001b[38;5;241m.\u001b[39m_hf_hook\u001b[38;5;241m.\u001b[39mpost_forward(module, output)\n",
      "File \u001b[1;32mc:\\Users\\Samuele\\AppData\\Local\\Programs\\Python\\Python311\\Lib\\site-packages\\transformers\\models\\llama\\modeling_llama.py:694\u001b[0m, in \u001b[0;36mLlamaSdpaAttention.forward\u001b[1;34m(self, hidden_states, attention_mask, position_ids, past_key_value, output_attentions, use_cache)\u001b[0m\n\u001b[0;32m    691\u001b[0m bsz, q_len, _ \u001b[38;5;241m=\u001b[39m hidden_states\u001b[38;5;241m.\u001b[39msize()\n\u001b[0;32m    693\u001b[0m query_states \u001b[38;5;241m=\u001b[39m \u001b[38;5;28mself\u001b[39m\u001b[38;5;241m.\u001b[39mq_proj(hidden_states)\n\u001b[1;32m--> 694\u001b[0m key_states \u001b[38;5;241m=\u001b[39m \u001b[38;5;28;43mself\u001b[39;49m\u001b[38;5;241;43m.\u001b[39;49m\u001b[43mk_proj\u001b[49m\u001b[43m(\u001b[49m\u001b[43mhidden_states\u001b[49m\u001b[43m)\u001b[49m\n\u001b[0;32m    695\u001b[0m value_states \u001b[38;5;241m=\u001b[39m \u001b[38;5;28mself\u001b[39m\u001b[38;5;241m.\u001b[39mv_proj(hidden_states)\n\u001b[0;32m    697\u001b[0m query_states \u001b[38;5;241m=\u001b[39m query_states\u001b[38;5;241m.\u001b[39mview(bsz, q_len, \u001b[38;5;28mself\u001b[39m\u001b[38;5;241m.\u001b[39mnum_heads, \u001b[38;5;28mself\u001b[39m\u001b[38;5;241m.\u001b[39mhead_dim)\u001b[38;5;241m.\u001b[39mtranspose(\u001b[38;5;241m1\u001b[39m, \u001b[38;5;241m2\u001b[39m)\n",
      "File \u001b[1;32mc:\\Users\\Samuele\\AppData\\Local\\Programs\\Python\\Python311\\Lib\\site-packages\\torch\\nn\\modules\\module.py:1518\u001b[0m, in \u001b[0;36mModule._wrapped_call_impl\u001b[1;34m(self, *args, **kwargs)\u001b[0m\n\u001b[0;32m   1516\u001b[0m     \u001b[38;5;28;01mreturn\u001b[39;00m \u001b[38;5;28mself\u001b[39m\u001b[38;5;241m.\u001b[39m_compiled_call_impl(\u001b[38;5;241m*\u001b[39margs, \u001b[38;5;241m*\u001b[39m\u001b[38;5;241m*\u001b[39mkwargs)  \u001b[38;5;66;03m# type: ignore[misc]\u001b[39;00m\n\u001b[0;32m   1517\u001b[0m \u001b[38;5;28;01melse\u001b[39;00m:\n\u001b[1;32m-> 1518\u001b[0m     \u001b[38;5;28;01mreturn\u001b[39;00m \u001b[38;5;28;43mself\u001b[39;49m\u001b[38;5;241;43m.\u001b[39;49m\u001b[43m_call_impl\u001b[49m\u001b[43m(\u001b[49m\u001b[38;5;241;43m*\u001b[39;49m\u001b[43margs\u001b[49m\u001b[43m,\u001b[49m\u001b[43m \u001b[49m\u001b[38;5;241;43m*\u001b[39;49m\u001b[38;5;241;43m*\u001b[39;49m\u001b[43mkwargs\u001b[49m\u001b[43m)\u001b[49m\n",
      "File \u001b[1;32mc:\\Users\\Samuele\\AppData\\Local\\Programs\\Python\\Python311\\Lib\\site-packages\\torch\\nn\\modules\\module.py:1527\u001b[0m, in \u001b[0;36mModule._call_impl\u001b[1;34m(self, *args, **kwargs)\u001b[0m\n\u001b[0;32m   1522\u001b[0m \u001b[38;5;66;03m# If we don't have any hooks, we want to skip the rest of the logic in\u001b[39;00m\n\u001b[0;32m   1523\u001b[0m \u001b[38;5;66;03m# this function, and just call forward.\u001b[39;00m\n\u001b[0;32m   1524\u001b[0m \u001b[38;5;28;01mif\u001b[39;00m \u001b[38;5;129;01mnot\u001b[39;00m (\u001b[38;5;28mself\u001b[39m\u001b[38;5;241m.\u001b[39m_backward_hooks \u001b[38;5;129;01mor\u001b[39;00m \u001b[38;5;28mself\u001b[39m\u001b[38;5;241m.\u001b[39m_backward_pre_hooks \u001b[38;5;129;01mor\u001b[39;00m \u001b[38;5;28mself\u001b[39m\u001b[38;5;241m.\u001b[39m_forward_hooks \u001b[38;5;129;01mor\u001b[39;00m \u001b[38;5;28mself\u001b[39m\u001b[38;5;241m.\u001b[39m_forward_pre_hooks\n\u001b[0;32m   1525\u001b[0m         \u001b[38;5;129;01mor\u001b[39;00m _global_backward_pre_hooks \u001b[38;5;129;01mor\u001b[39;00m _global_backward_hooks\n\u001b[0;32m   1526\u001b[0m         \u001b[38;5;129;01mor\u001b[39;00m _global_forward_hooks \u001b[38;5;129;01mor\u001b[39;00m _global_forward_pre_hooks):\n\u001b[1;32m-> 1527\u001b[0m     \u001b[38;5;28;01mreturn\u001b[39;00m \u001b[43mforward_call\u001b[49m\u001b[43m(\u001b[49m\u001b[38;5;241;43m*\u001b[39;49m\u001b[43margs\u001b[49m\u001b[43m,\u001b[49m\u001b[43m \u001b[49m\u001b[38;5;241;43m*\u001b[39;49m\u001b[38;5;241;43m*\u001b[39;49m\u001b[43mkwargs\u001b[49m\u001b[43m)\u001b[49m\n\u001b[0;32m   1529\u001b[0m \u001b[38;5;28;01mtry\u001b[39;00m:\n\u001b[0;32m   1530\u001b[0m     result \u001b[38;5;241m=\u001b[39m \u001b[38;5;28;01mNone\u001b[39;00m\n",
      "File \u001b[1;32mc:\\Users\\Samuele\\AppData\\Local\\Programs\\Python\\Python311\\Lib\\site-packages\\accelerate\\hooks.py:165\u001b[0m, in \u001b[0;36madd_hook_to_module.<locals>.new_forward\u001b[1;34m(*args, **kwargs)\u001b[0m\n\u001b[0;32m    163\u001b[0m         output \u001b[38;5;241m=\u001b[39m old_forward(\u001b[38;5;241m*\u001b[39margs, \u001b[38;5;241m*\u001b[39m\u001b[38;5;241m*\u001b[39mkwargs)\n\u001b[0;32m    164\u001b[0m \u001b[38;5;28;01melse\u001b[39;00m:\n\u001b[1;32m--> 165\u001b[0m     output \u001b[38;5;241m=\u001b[39m \u001b[43mold_forward\u001b[49m\u001b[43m(\u001b[49m\u001b[38;5;241;43m*\u001b[39;49m\u001b[43margs\u001b[49m\u001b[43m,\u001b[49m\u001b[43m \u001b[49m\u001b[38;5;241;43m*\u001b[39;49m\u001b[38;5;241;43m*\u001b[39;49m\u001b[43mkwargs\u001b[49m\u001b[43m)\u001b[49m\n\u001b[0;32m    166\u001b[0m \u001b[38;5;28;01mreturn\u001b[39;00m module\u001b[38;5;241m.\u001b[39m_hf_hook\u001b[38;5;241m.\u001b[39mpost_forward(module, output)\n",
      "File \u001b[1;32mc:\\Users\\Samuele\\AppData\\Local\\Programs\\Python\\Python311\\Lib\\site-packages\\bitsandbytes\\nn\\modules.py:248\u001b[0m, in \u001b[0;36mLinear4bit.forward\u001b[1;34m(self, x)\u001b[0m\n\u001b[0;32m    245\u001b[0m     x \u001b[38;5;241m=\u001b[39m x\u001b[38;5;241m.\u001b[39mto(\u001b[38;5;28mself\u001b[39m\u001b[38;5;241m.\u001b[39mcompute_dtype)\n\u001b[0;32m    247\u001b[0m bias \u001b[38;5;241m=\u001b[39m \u001b[38;5;28;01mNone\u001b[39;00m \u001b[38;5;28;01mif\u001b[39;00m \u001b[38;5;28mself\u001b[39m\u001b[38;5;241m.\u001b[39mbias \u001b[38;5;129;01mis\u001b[39;00m \u001b[38;5;28;01mNone\u001b[39;00m \u001b[38;5;28;01melse\u001b[39;00m \u001b[38;5;28mself\u001b[39m\u001b[38;5;241m.\u001b[39mbias\u001b[38;5;241m.\u001b[39mto(\u001b[38;5;28mself\u001b[39m\u001b[38;5;241m.\u001b[39mcompute_dtype)\n\u001b[1;32m--> 248\u001b[0m out \u001b[38;5;241m=\u001b[39m \u001b[43mbnb\u001b[49m\u001b[38;5;241;43m.\u001b[39;49m\u001b[43mmatmul_4bit\u001b[49m\u001b[43m(\u001b[49m\u001b[43mx\u001b[49m\u001b[43m,\u001b[49m\u001b[43m \u001b[49m\u001b[38;5;28;43mself\u001b[39;49m\u001b[38;5;241;43m.\u001b[39;49m\u001b[43mweight\u001b[49m\u001b[38;5;241;43m.\u001b[39;49m\u001b[43mt\u001b[49m\u001b[43m(\u001b[49m\u001b[43m)\u001b[49m\u001b[43m,\u001b[49m\u001b[43m \u001b[49m\u001b[43mbias\u001b[49m\u001b[38;5;241;43m=\u001b[39;49m\u001b[43mbias\u001b[49m\u001b[43m,\u001b[49m\u001b[43m \u001b[49m\u001b[43mquant_state\u001b[49m\u001b[38;5;241;43m=\u001b[39;49m\u001b[38;5;28;43mself\u001b[39;49m\u001b[38;5;241;43m.\u001b[39;49m\u001b[43mweight\u001b[49m\u001b[38;5;241;43m.\u001b[39;49m\u001b[43mquant_state\u001b[49m\u001b[43m)\u001b[49m\n\u001b[0;32m    250\u001b[0m out \u001b[38;5;241m=\u001b[39m out\u001b[38;5;241m.\u001b[39mto(inp_dtype)\n\u001b[0;32m    252\u001b[0m \u001b[38;5;28;01mreturn\u001b[39;00m out\n",
      "File \u001b[1;32mc:\\Users\\Samuele\\AppData\\Local\\Programs\\Python\\Python311\\Lib\\site-packages\\bitsandbytes\\autograd\\_functions.py:579\u001b[0m, in \u001b[0;36mmatmul_4bit\u001b[1;34m(A, B, quant_state, out, bias)\u001b[0m\n\u001b[0;32m    577\u001b[0m         \u001b[38;5;28;01mreturn\u001b[39;00m out\n\u001b[0;32m    578\u001b[0m \u001b[38;5;28;01melse\u001b[39;00m:\n\u001b[1;32m--> 579\u001b[0m     \u001b[38;5;28;01mreturn\u001b[39;00m \u001b[43mMatMul4Bit\u001b[49m\u001b[38;5;241;43m.\u001b[39;49m\u001b[43mapply\u001b[49m\u001b[43m(\u001b[49m\u001b[43mA\u001b[49m\u001b[43m,\u001b[49m\u001b[43m \u001b[49m\u001b[43mB\u001b[49m\u001b[43m,\u001b[49m\u001b[43m \u001b[49m\u001b[43mout\u001b[49m\u001b[43m,\u001b[49m\u001b[43m \u001b[49m\u001b[43mbias\u001b[49m\u001b[43m,\u001b[49m\u001b[43m \u001b[49m\u001b[43mquant_state\u001b[49m\u001b[43m)\u001b[49m\n",
      "File \u001b[1;32mc:\\Users\\Samuele\\AppData\\Local\\Programs\\Python\\Python311\\Lib\\site-packages\\torch\\autograd\\function.py:539\u001b[0m, in \u001b[0;36mFunction.apply\u001b[1;34m(cls, *args, **kwargs)\u001b[0m\n\u001b[0;32m    536\u001b[0m \u001b[38;5;28;01mif\u001b[39;00m \u001b[38;5;129;01mnot\u001b[39;00m torch\u001b[38;5;241m.\u001b[39m_C\u001b[38;5;241m.\u001b[39m_are_functorch_transforms_active():\n\u001b[0;32m    537\u001b[0m     \u001b[38;5;66;03m# See NOTE: [functorch vjp and autograd interaction]\u001b[39;00m\n\u001b[0;32m    538\u001b[0m     args \u001b[38;5;241m=\u001b[39m _functorch\u001b[38;5;241m.\u001b[39mutils\u001b[38;5;241m.\u001b[39munwrap_dead_wrappers(args)\n\u001b[1;32m--> 539\u001b[0m     \u001b[38;5;28;01mreturn\u001b[39;00m \u001b[38;5;28;43msuper\u001b[39;49m\u001b[43m(\u001b[49m\u001b[43m)\u001b[49m\u001b[38;5;241;43m.\u001b[39;49m\u001b[43mapply\u001b[49m\u001b[43m(\u001b[49m\u001b[38;5;241;43m*\u001b[39;49m\u001b[43margs\u001b[49m\u001b[43m,\u001b[49m\u001b[43m \u001b[49m\u001b[38;5;241;43m*\u001b[39;49m\u001b[38;5;241;43m*\u001b[39;49m\u001b[43mkwargs\u001b[49m\u001b[43m)\u001b[49m  \u001b[38;5;66;03m# type: ignore[misc]\u001b[39;00m\n\u001b[0;32m    541\u001b[0m \u001b[38;5;28;01mif\u001b[39;00m \u001b[38;5;28mcls\u001b[39m\u001b[38;5;241m.\u001b[39msetup_context \u001b[38;5;241m==\u001b[39m _SingleLevelFunction\u001b[38;5;241m.\u001b[39msetup_context:\n\u001b[0;32m    542\u001b[0m     \u001b[38;5;28;01mraise\u001b[39;00m \u001b[38;5;167;01mRuntimeError\u001b[39;00m(\n\u001b[0;32m    543\u001b[0m         \u001b[38;5;124m\"\u001b[39m\u001b[38;5;124mIn order to use an autograd.Function with functorch transforms \u001b[39m\u001b[38;5;124m\"\u001b[39m\n\u001b[0;32m    544\u001b[0m         \u001b[38;5;124m\"\u001b[39m\u001b[38;5;124m(vmap, grad, jvp, jacrev, ...), it must override the setup_context \u001b[39m\u001b[38;5;124m\"\u001b[39m\n\u001b[0;32m    545\u001b[0m         \u001b[38;5;124m\"\u001b[39m\u001b[38;5;124mstaticmethod. For more details, please see \u001b[39m\u001b[38;5;124m\"\u001b[39m\n\u001b[0;32m    546\u001b[0m         \u001b[38;5;124m\"\u001b[39m\u001b[38;5;124mhttps://pytorch.org/docs/master/notes/extending.func.html\u001b[39m\u001b[38;5;124m\"\u001b[39m\n\u001b[0;32m    547\u001b[0m     )\n",
      "File \u001b[1;32mc:\\Users\\Samuele\\AppData\\Local\\Programs\\Python\\Python311\\Lib\\site-packages\\bitsandbytes\\autograd\\_functions.py:516\u001b[0m, in \u001b[0;36mMatMul4Bit.forward\u001b[1;34m(ctx, A, B, out, bias, state)\u001b[0m\n\u001b[0;32m    511\u001b[0m         \u001b[38;5;28;01mreturn\u001b[39;00m torch\u001b[38;5;241m.\u001b[39mempty(A\u001b[38;5;241m.\u001b[39mshape[:\u001b[38;5;241m-\u001b[39m\u001b[38;5;241m1\u001b[39m] \u001b[38;5;241m+\u001b[39m B_shape[:\u001b[38;5;241m1\u001b[39m], dtype\u001b[38;5;241m=\u001b[39mA\u001b[38;5;241m.\u001b[39mdtype, device\u001b[38;5;241m=\u001b[39mA\u001b[38;5;241m.\u001b[39mdevice)\n\u001b[0;32m    514\u001b[0m \u001b[38;5;66;03m# 1. Dequantize\u001b[39;00m\n\u001b[0;32m    515\u001b[0m \u001b[38;5;66;03m# 2. MatmulnN\u001b[39;00m\n\u001b[1;32m--> 516\u001b[0m output \u001b[38;5;241m=\u001b[39m torch\u001b[38;5;241m.\u001b[39mnn\u001b[38;5;241m.\u001b[39mfunctional\u001b[38;5;241m.\u001b[39mlinear(A, \u001b[43mF\u001b[49m\u001b[38;5;241;43m.\u001b[39;49m\u001b[43mdequantize_4bit\u001b[49m\u001b[43m(\u001b[49m\u001b[43mB\u001b[49m\u001b[43m,\u001b[49m\u001b[43m \u001b[49m\u001b[43mstate\u001b[49m\u001b[43m)\u001b[49m\u001b[38;5;241;43m.\u001b[39;49m\u001b[43mto\u001b[49m\u001b[43m(\u001b[49m\u001b[43mA\u001b[49m\u001b[38;5;241;43m.\u001b[39;49m\u001b[43mdtype\u001b[49m\u001b[43m)\u001b[49m\u001b[38;5;241m.\u001b[39mt(), bias)\n\u001b[0;32m    518\u001b[0m \u001b[38;5;66;03m# 3. Save state\u001b[39;00m\n\u001b[0;32m    519\u001b[0m ctx\u001b[38;5;241m.\u001b[39mstate \u001b[38;5;241m=\u001b[39m state\n",
      "\u001b[1;31mKeyboardInterrupt\u001b[0m: "
     ]
    }
   ],
   "source": [
    "import uuid\n",
    "from tqdm import tqdm\n",
    "\n",
    "batch_size = 1\n",
    "\n",
    "predicted_answers = []\n",
    "theoretical_answers = []\n",
    "\n",
    "ds = dataset[\"test\"].shuffle(seed=42)\n",
    "\n",
    "bar = tqdm(ds.iter(batch_size=batch_size), total=len(ds))\n",
    "total = 0\n",
    "for elem in bar:\n",
    "    try:\n",
    "        ids = elem[\"id\"]\n",
    "        context = elem[\"context\"]\n",
    "        question = elem[\"question\"]\n",
    "        answers = elem[\"answers\"]\n",
    "\n",
    "        model_inputs = []\n",
    "        for c, q in zip(context, question):\n",
    "            model_inputs.append(\n",
    "                generate_prompt(\n",
    "                    get_shots(dataset, 3) + [\n",
    "                        dict(\n",
    "                            role=\"user\",\n",
    "                            text=build_question(c, q)\n",
    "                        )\n",
    "                    ],\n",
    "                    do_continue=True\n",
    "                ) + \" \" + build_answer(\"\").strip()\n",
    "            )\n",
    "        # print(model_inputs[0])\n",
    "        # break\n",
    "\n",
    "        model_outputs = forward_model(\n",
    "            prompt=model_inputs[0],\n",
    "            model=model,\n",
    "            tokenizer=tokenizer,\n",
    "        )\n",
    "        model_outputs = model_outputs[0].split(\"Risposta breve:\")[-1] if \"Risposta breve:\" in model_outputs[0] else _\n",
    "        print(f\"DOMANDA:\\n{model_inputs[0]}\\n\\nRISPOSTA\\n{model_outputs}\\nSOLUZIONE\\n{answers[0]['text']}\\n\")#[520:]\n",
    "\n",
    "        # for model_output, id in zip(model_outputs, ids):\n",
    "        #     predicted_answers.append(dict(\n",
    "        #         id=id,\n",
    "        #         prediction_text=model_output,\n",
    "        #     ))\n",
    "        predicted_answers.append(dict(\n",
    "                id=ids[0],\n",
    "                prediction_text=model_outputs,\n",
    "            ))\n",
    "\n",
    "        for ans, id in zip(answers, ids):\n",
    "            theoretical_answers.append(dict(\n",
    "                id=id,\n",
    "                answers=ans,\n",
    "            ))\n",
    "        \n",
    "    except Exception as e:\n",
    "        print(e)\n",
    "        continue"
   ]
  },
  {
   "cell_type": "code",
   "execution_count": null,
   "metadata": {},
   "outputs": [],
   "source": [
    "print(model_inputs[0])"
   ]
  },
  {
   "cell_type": "code",
   "execution_count": null,
   "metadata": {},
   "outputs": [],
   "source": [
    "model_outputs"
   ]
  },
  {
   "cell_type": "code",
   "execution_count": null,
   "metadata": {},
   "outputs": [],
   "source": [
    "predicted_answers[-1]\n",
    "#theoretical_answers[0]"
   ]
  },
  {
   "cell_type": "code",
   "execution_count": 34,
   "metadata": {},
   "outputs": [],
   "source": [
    "import os\n",
    "import json\n",
    "\n",
    "\n",
    "# Create the directory if it doesn't exist\n",
    "os.makedirs('./cache', exist_ok=True)\n",
    "with open(f\"./cache/generated-squad-{model_name}.json\", \"w\") as f:\n",
    "    json.dump(dict(\n",
    "        predicted_answers=predicted_answers,\n",
    "        theoretical_answers=theoretical_answers,\n",
    "    ), f, indent=4)"
   ]
  },
  {
   "cell_type": "code",
   "execution_count": 35,
   "metadata": {},
   "outputs": [
    {
     "name": "stdout",
     "output_type": "stream",
     "text": [
      "8\n"
     ]
    }
   ],
   "source": [
    "import json\n",
    "with open(f\"./cache/generated-squad-{model_name}.json\", \"r\") as f:\n",
    "    data = json.load(f)\n",
    "\n",
    "print(len(data[\"predicted_answers\"]))"
   ]
  },
  {
   "cell_type": "code",
   "execution_count": 36,
   "metadata": {},
   "outputs": [
    {
     "name": "stdout",
     "output_type": "stream",
     "text": [
      "=== REPORT ===\n",
      "current date: 24/01/2024 12:40:00\n",
      "Dataset: SQuAD-it\n",
      "Model: llamantino\n",
      "{'exact_match': 37.5, 'f1': 58.698534255599476}\n",
      "==========================\n"
     ]
    }
   ],
   "source": [
    "import evaluate\n",
    "\n",
    "predicted_answers = data[\"predicted_answers\"]\n",
    "theoretical_answers = data[\"theoretical_answers\"]\n",
    "\n",
    "metric = evaluate.load(\"squad\")\n",
    "results = metric.compute(predictions=predicted_answers, references=theoretical_answers)\n",
    "\n",
    "import time\n",
    "\n",
    "\n",
    "print(\"=== REPORT ===\")\n",
    "print(\"current date:\", time.strftime(\"%d/%m/%Y %H:%M:%S\"))\n",
    "print(\"Dataset: SQuAD-it\")\n",
    "print(\"Model:\", model_name)\n",
    "print(results)\n",
    "print(\"==========================\")"
   ]
  }
 ],
 "metadata": {
  "kernelspec": {
   "display_name": "env",
   "language": "python",
   "name": "python3"
  },
  "language_info": {
   "codemirror_mode": {
    "name": "ipython",
    "version": 3
   },
   "file_extension": ".py",
   "mimetype": "text/x-python",
   "name": "python",
   "nbconvert_exporter": "python",
   "pygments_lexer": "ipython3",
   "version": "3.11.6"
  }
 },
 "nbformat": 4,
 "nbformat_minor": 2
}
